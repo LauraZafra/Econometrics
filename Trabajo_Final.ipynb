{
 "cells": [
  {
   "cell_type": "markdown",
   "metadata": {},
   "source": [
    "# TRABAJO FINAL"
   ]
  },
  {
   "cell_type": "markdown",
   "metadata": {},
   "source": [
    "## Práctica 0"
   ]
  },
  {
   "cell_type": "markdown",
   "metadata": {},
   "source": [
    "### Análisis estadístico de la Clasificación del Mundial de Baloncesto de 2023"
   ]
  },
  {
   "cell_type": "code",
   "execution_count": 3,
   "metadata": {
    "scrolled": true
   },
   "outputs": [
    {
     "data": {
      "text/html": [
       "<div>\n",
       "<style scoped>\n",
       "    .dataframe tbody tr th:only-of-type {\n",
       "        vertical-align: middle;\n",
       "    }\n",
       "\n",
       "    .dataframe tbody tr th {\n",
       "        vertical-align: top;\n",
       "    }\n",
       "\n",
       "    .dataframe thead th {\n",
       "        text-align: right;\n",
       "    }\n",
       "</style>\n",
       "<table border=\"1\" class=\"dataframe\">\n",
       "  <thead>\n",
       "    <tr style=\"text-align: right;\">\n",
       "      <th></th>\n",
       "      <th>POSITION</th>\n",
       "      <th>TEAM</th>\n",
       "      <th>GP</th>\n",
       "      <th>GW</th>\n",
       "      <th>PPG</th>\n",
       "      <th>APG</th>\n",
       "      <th>FGMPG</th>\n",
       "      <th>FGAPG</th>\n",
       "      <th>FG PCT</th>\n",
       "      <th>2PMPG</th>\n",
       "      <th>...</th>\n",
       "      <th>FTAPG</th>\n",
       "      <th>FT PCT</th>\n",
       "      <th>RPG</th>\n",
       "      <th>ORPG</th>\n",
       "      <th>DRPG</th>\n",
       "      <th>BLKPG</th>\n",
       "      <th>STLPG</th>\n",
       "      <th>PFPG</th>\n",
       "      <th>TOPG</th>\n",
       "      <th>EFFPG</th>\n",
       "    </tr>\n",
       "  </thead>\n",
       "  <tbody>\n",
       "    <tr>\n",
       "      <th>0</th>\n",
       "      <td>1</td>\n",
       "      <td>GERMANY</td>\n",
       "      <td>8</td>\n",
       "      <td>8</td>\n",
       "      <td>93.0</td>\n",
       "      <td>22.5</td>\n",
       "      <td>33.5</td>\n",
       "      <td>65.5</td>\n",
       "      <td>51.1</td>\n",
       "      <td>22.1</td>\n",
       "      <td>...</td>\n",
       "      <td>18.5</td>\n",
       "      <td>79.1</td>\n",
       "      <td>36.1</td>\n",
       "      <td>10.5</td>\n",
       "      <td>25.6</td>\n",
       "      <td>2.1</td>\n",
       "      <td>8.1</td>\n",
       "      <td>18.5</td>\n",
       "      <td>10.5</td>\n",
       "      <td>112.5</td>\n",
       "    </tr>\n",
       "    <tr>\n",
       "      <th>1</th>\n",
       "      <td>2</td>\n",
       "      <td>SERBIA</td>\n",
       "      <td>8</td>\n",
       "      <td>6</td>\n",
       "      <td>95.1</td>\n",
       "      <td>23.6</td>\n",
       "      <td>33.8</td>\n",
       "      <td>62.3</td>\n",
       "      <td>54.3</td>\n",
       "      <td>23.8</td>\n",
       "      <td>...</td>\n",
       "      <td>22.5</td>\n",
       "      <td>78.3</td>\n",
       "      <td>34.1</td>\n",
       "      <td>8.6</td>\n",
       "      <td>25.5</td>\n",
       "      <td>2.9</td>\n",
       "      <td>9.1</td>\n",
       "      <td>17.4</td>\n",
       "      <td>10.3</td>\n",
       "      <td>117.9</td>\n",
       "    </tr>\n",
       "    <tr>\n",
       "      <th>2</th>\n",
       "      <td>3</td>\n",
       "      <td>CANADA</td>\n",
       "      <td>8</td>\n",
       "      <td>6</td>\n",
       "      <td>98.8</td>\n",
       "      <td>22.3</td>\n",
       "      <td>33.6</td>\n",
       "      <td>67.3</td>\n",
       "      <td>49.9</td>\n",
       "      <td>20.9</td>\n",
       "      <td>...</td>\n",
       "      <td>24.1</td>\n",
       "      <td>77.7</td>\n",
       "      <td>36.6</td>\n",
       "      <td>12.0</td>\n",
       "      <td>24.6</td>\n",
       "      <td>2.4</td>\n",
       "      <td>7.6</td>\n",
       "      <td>19.8</td>\n",
       "      <td>11.0</td>\n",
       "      <td>114.9</td>\n",
       "    </tr>\n",
       "    <tr>\n",
       "      <th>3</th>\n",
       "      <td>4</td>\n",
       "      <td>USA</td>\n",
       "      <td>8</td>\n",
       "      <td>5</td>\n",
       "      <td>104.5</td>\n",
       "      <td>23.9</td>\n",
       "      <td>36.8</td>\n",
       "      <td>68.6</td>\n",
       "      <td>53.6</td>\n",
       "      <td>26.5</td>\n",
       "      <td>...</td>\n",
       "      <td>26.1</td>\n",
       "      <td>79.4</td>\n",
       "      <td>39.6</td>\n",
       "      <td>9.9</td>\n",
       "      <td>29.8</td>\n",
       "      <td>5.4</td>\n",
       "      <td>9.0</td>\n",
       "      <td>18.1</td>\n",
       "      <td>13.5</td>\n",
       "      <td>128.8</td>\n",
       "    </tr>\n",
       "    <tr>\n",
       "      <th>4</th>\n",
       "      <td>5</td>\n",
       "      <td>LATVIA</td>\n",
       "      <td>8</td>\n",
       "      <td>6</td>\n",
       "      <td>89.3</td>\n",
       "      <td>24.4</td>\n",
       "      <td>33.0</td>\n",
       "      <td>64.1</td>\n",
       "      <td>51.5</td>\n",
       "      <td>19.3</td>\n",
       "      <td>...</td>\n",
       "      <td>12.8</td>\n",
       "      <td>74.5</td>\n",
       "      <td>39.8</td>\n",
       "      <td>7.6</td>\n",
       "      <td>24.6</td>\n",
       "      <td>2.8</td>\n",
       "      <td>6.3</td>\n",
       "      <td>20.4</td>\n",
       "      <td>9.8</td>\n",
       "      <td>107.4</td>\n",
       "    </tr>\n",
       "    <tr>\n",
       "      <th>5</th>\n",
       "      <td>6</td>\n",
       "      <td>LITHUANIA</td>\n",
       "      <td>8</td>\n",
       "      <td>6</td>\n",
       "      <td>89.1</td>\n",
       "      <td>21.4</td>\n",
       "      <td>32.8</td>\n",
       "      <td>64.5</td>\n",
       "      <td>50.9</td>\n",
       "      <td>22.0</td>\n",
       "      <td>...</td>\n",
       "      <td>17.4</td>\n",
       "      <td>74.1</td>\n",
       "      <td>39.8</td>\n",
       "      <td>11.8</td>\n",
       "      <td>28.0</td>\n",
       "      <td>3.8</td>\n",
       "      <td>4.3</td>\n",
       "      <td>19.9</td>\n",
       "      <td>12.0</td>\n",
       "      <td>106.9</td>\n",
       "    </tr>\n",
       "    <tr>\n",
       "      <th>6</th>\n",
       "      <td>7</td>\n",
       "      <td>SLOVENIA</td>\n",
       "      <td>8</td>\n",
       "      <td>5</td>\n",
       "      <td>88.0</td>\n",
       "      <td>18.3</td>\n",
       "      <td>28.0</td>\n",
       "      <td>61.3</td>\n",
       "      <td>45.7</td>\n",
       "      <td>16.0</td>\n",
       "      <td>...</td>\n",
       "      <td>25.8</td>\n",
       "      <td>77.7</td>\n",
       "      <td>35.1</td>\n",
       "      <td>10.8</td>\n",
       "      <td>24.4</td>\n",
       "      <td>0.9</td>\n",
       "      <td>7.0</td>\n",
       "      <td>21.8</td>\n",
       "      <td>12.6</td>\n",
       "      <td>94.9</td>\n",
       "    </tr>\n",
       "    <tr>\n",
       "      <th>7</th>\n",
       "      <td>8</td>\n",
       "      <td>ITALY</td>\n",
       "      <td>8</td>\n",
       "      <td>4</td>\n",
       "      <td>79.3</td>\n",
       "      <td>19.5</td>\n",
       "      <td>28.4</td>\n",
       "      <td>67.0</td>\n",
       "      <td>42.4</td>\n",
       "      <td>18.8</td>\n",
       "      <td>...</td>\n",
       "      <td>16.1</td>\n",
       "      <td>79.8</td>\n",
       "      <td>37.3</td>\n",
       "      <td>11.6</td>\n",
       "      <td>25.6</td>\n",
       "      <td>2.1</td>\n",
       "      <td>7.0</td>\n",
       "      <td>19.8</td>\n",
       "      <td>11.4</td>\n",
       "      <td>88.3</td>\n",
       "    </tr>\n",
       "    <tr>\n",
       "      <th>8</th>\n",
       "      <td>9</td>\n",
       "      <td>SPAIN</td>\n",
       "      <td>5</td>\n",
       "      <td>3</td>\n",
       "      <td>85.8</td>\n",
       "      <td>27.8</td>\n",
       "      <td>30.2</td>\n",
       "      <td>61.6</td>\n",
       "      <td>49.0</td>\n",
       "      <td>21.0</td>\n",
       "      <td>...</td>\n",
       "      <td>22.4</td>\n",
       "      <td>72.3</td>\n",
       "      <td>38.6</td>\n",
       "      <td>12.6</td>\n",
       "      <td>26.0</td>\n",
       "      <td>3.8</td>\n",
       "      <td>7.2</td>\n",
       "      <td>20.6</td>\n",
       "      <td>12.6</td>\n",
       "      <td>107.8</td>\n",
       "    </tr>\n",
       "    <tr>\n",
       "      <th>9</th>\n",
       "      <td>10</td>\n",
       "      <td>AUSTRALIA</td>\n",
       "      <td>5</td>\n",
       "      <td>3</td>\n",
       "      <td>93.8</td>\n",
       "      <td>23.2</td>\n",
       "      <td>35.0</td>\n",
       "      <td>68.8</td>\n",
       "      <td>50.9</td>\n",
       "      <td>25.6</td>\n",
       "      <td>...</td>\n",
       "      <td>18.4</td>\n",
       "      <td>78.3</td>\n",
       "      <td>36.2</td>\n",
       "      <td>10.2</td>\n",
       "      <td>26.0</td>\n",
       "      <td>3.8</td>\n",
       "      <td>7.4</td>\n",
       "      <td>18.2</td>\n",
       "      <td>11.6</td>\n",
       "      <td>112.0</td>\n",
       "    </tr>\n",
       "    <tr>\n",
       "      <th>10</th>\n",
       "      <td>11</td>\n",
       "      <td>MONTENEGRO</td>\n",
       "      <td>5</td>\n",
       "      <td>3</td>\n",
       "      <td>79.4</td>\n",
       "      <td>17.0</td>\n",
       "      <td>29.6</td>\n",
       "      <td>67.6</td>\n",
       "      <td>43.8</td>\n",
       "      <td>23.0</td>\n",
       "      <td>...</td>\n",
       "      <td>18.0</td>\n",
       "      <td>75.6</td>\n",
       "      <td>38.6</td>\n",
       "      <td>14.0</td>\n",
       "      <td>24.6</td>\n",
       "      <td>2.2</td>\n",
       "      <td>9.0</td>\n",
       "      <td>19.8</td>\n",
       "      <td>12.8</td>\n",
       "      <td>88.0</td>\n",
       "    </tr>\n",
       "    <tr>\n",
       "      <th>11</th>\n",
       "      <td>12</td>\n",
       "      <td>PUERTO RICO</td>\n",
       "      <td>5</td>\n",
       "      <td>3</td>\n",
       "      <td>88.8</td>\n",
       "      <td>19.8</td>\n",
       "      <td>30.8</td>\n",
       "      <td>68.4</td>\n",
       "      <td>45.0</td>\n",
       "      <td>19.2</td>\n",
       "      <td>...</td>\n",
       "      <td>21.4</td>\n",
       "      <td>72.9</td>\n",
       "      <td>38.4</td>\n",
       "      <td>12.0</td>\n",
       "      <td>26.4</td>\n",
       "      <td>2.6</td>\n",
       "      <td>7.8</td>\n",
       "      <td>17.2</td>\n",
       "      <td>13.8</td>\n",
       "      <td>97.4</td>\n",
       "    </tr>\n",
       "    <tr>\n",
       "      <th>12</th>\n",
       "      <td>13</td>\n",
       "      <td>BRAZIL</td>\n",
       "      <td>5</td>\n",
       "      <td>3</td>\n",
       "      <td>84.0</td>\n",
       "      <td>21.4</td>\n",
       "      <td>28.6</td>\n",
       "      <td>63.6</td>\n",
       "      <td>45.0</td>\n",
       "      <td>18.8</td>\n",
       "      <td>...</td>\n",
       "      <td>20.4</td>\n",
       "      <td>83.3</td>\n",
       "      <td>40.4</td>\n",
       "      <td>12.6</td>\n",
       "      <td>27.8</td>\n",
       "      <td>3.0</td>\n",
       "      <td>5.0</td>\n",
       "      <td>18.4</td>\n",
       "      <td>11.6</td>\n",
       "      <td>98.2</td>\n",
       "    </tr>\n",
       "    <tr>\n",
       "      <th>13</th>\n",
       "      <td>14</td>\n",
       "      <td>DOMINICAN REPUBLIC</td>\n",
       "      <td>5</td>\n",
       "      <td>3</td>\n",
       "      <td>85.0</td>\n",
       "      <td>18.6</td>\n",
       "      <td>28.2</td>\n",
       "      <td>65.8</td>\n",
       "      <td>42.9</td>\n",
       "      <td>18.4</td>\n",
       "      <td>...</td>\n",
       "      <td>24.2</td>\n",
       "      <td>77.7</td>\n",
       "      <td>36.4</td>\n",
       "      <td>11.2</td>\n",
       "      <td>25.2</td>\n",
       "      <td>2.6</td>\n",
       "      <td>6.0</td>\n",
       "      <td>22.0</td>\n",
       "      <td>13.4</td>\n",
       "      <td>88.8</td>\n",
       "    </tr>\n",
       "    <tr>\n",
       "      <th>14</th>\n",
       "      <td>15</td>\n",
       "      <td>GREECE</td>\n",
       "      <td>5</td>\n",
       "      <td>2</td>\n",
       "      <td>78.4</td>\n",
       "      <td>17.8</td>\n",
       "      <td>29.0</td>\n",
       "      <td>66.6</td>\n",
       "      <td>43.5</td>\n",
       "      <td>19.4</td>\n",
       "      <td>...</td>\n",
       "      <td>16.0</td>\n",
       "      <td>67.5</td>\n",
       "      <td>31.6</td>\n",
       "      <td>12.0</td>\n",
       "      <td>19.6</td>\n",
       "      <td>2.8</td>\n",
       "      <td>7.2</td>\n",
       "      <td>21.2</td>\n",
       "      <td>8.8</td>\n",
       "      <td>81.4</td>\n",
       "    </tr>\n",
       "    <tr>\n",
       "      <th>15</th>\n",
       "      <td>16</td>\n",
       "      <td>GEORGIA</td>\n",
       "      <td>5</td>\n",
       "      <td>2</td>\n",
       "      <td>75.8</td>\n",
       "      <td>19.4</td>\n",
       "      <td>26.6</td>\n",
       "      <td>61.0</td>\n",
       "      <td>43.6</td>\n",
       "      <td>20.0</td>\n",
       "      <td>...</td>\n",
       "      <td>20.0</td>\n",
       "      <td>80.0</td>\n",
       "      <td>38.4</td>\n",
       "      <td>10.4</td>\n",
       "      <td>28.0</td>\n",
       "      <td>2.0</td>\n",
       "      <td>6.8</td>\n",
       "      <td>21.0</td>\n",
       "      <td>16.2</td>\n",
       "      <td>82.2</td>\n",
       "    </tr>\n",
       "    <tr>\n",
       "      <th>16</th>\n",
       "      <td>17</td>\n",
       "      <td>SOUTH SUDAN</td>\n",
       "      <td>5</td>\n",
       "      <td>3</td>\n",
       "      <td>91.2</td>\n",
       "      <td>22.6</td>\n",
       "      <td>31.4</td>\n",
       "      <td>65.8</td>\n",
       "      <td>47.7</td>\n",
       "      <td>21.2</td>\n",
       "      <td>...</td>\n",
       "      <td>22.4</td>\n",
       "      <td>74.1</td>\n",
       "      <td>36.8</td>\n",
       "      <td>9.8</td>\n",
       "      <td>27.0</td>\n",
       "      <td>4.4</td>\n",
       "      <td>6.6</td>\n",
       "      <td>20.8</td>\n",
       "      <td>11.0</td>\n",
       "      <td>106.8</td>\n",
       "    </tr>\n",
       "    <tr>\n",
       "      <th>17</th>\n",
       "      <td>18</td>\n",
       "      <td>FRANCE</td>\n",
       "      <td>5</td>\n",
       "      <td>3</td>\n",
       "      <td>81.0</td>\n",
       "      <td>22.0</td>\n",
       "      <td>29.2</td>\n",
       "      <td>58.6</td>\n",
       "      <td>49.8</td>\n",
       "      <td>19.8</td>\n",
       "      <td>...</td>\n",
       "      <td>19.6</td>\n",
       "      <td>67.3</td>\n",
       "      <td>36.8</td>\n",
       "      <td>11.2</td>\n",
       "      <td>25.6</td>\n",
       "      <td>4.8</td>\n",
       "      <td>8.0</td>\n",
       "      <td>16.8</td>\n",
       "      <td>15.4</td>\n",
       "      <td>98.0</td>\n",
       "    </tr>\n",
       "    <tr>\n",
       "      <th>18</th>\n",
       "      <td>19</td>\n",
       "      <td>JAPAN</td>\n",
       "      <td>5</td>\n",
       "      <td>3</td>\n",
       "      <td>83.2</td>\n",
       "      <td>21.2</td>\n",
       "      <td>28.6</td>\n",
       "      <td>64.8</td>\n",
       "      <td>44.1</td>\n",
       "      <td>18.4</td>\n",
       "      <td>...</td>\n",
       "      <td>19.6</td>\n",
       "      <td>80.6</td>\n",
       "      <td>35.0</td>\n",
       "      <td>8.6</td>\n",
       "      <td>26.4</td>\n",
       "      <td>3.4</td>\n",
       "      <td>6.2</td>\n",
       "      <td>15.4</td>\n",
       "      <td>13.2</td>\n",
       "      <td>91.2</td>\n",
       "    </tr>\n",
       "    <tr>\n",
       "      <th>19</th>\n",
       "      <td>20</td>\n",
       "      <td>EGYPT</td>\n",
       "      <td>5</td>\n",
       "      <td>2</td>\n",
       "      <td>82.4</td>\n",
       "      <td>17.6</td>\n",
       "      <td>31.4</td>\n",
       "      <td>66.0</td>\n",
       "      <td>47.6</td>\n",
       "      <td>24.6</td>\n",
       "      <td>...</td>\n",
       "      <td>20.0</td>\n",
       "      <td>64.0</td>\n",
       "      <td>39.2</td>\n",
       "      <td>12.2</td>\n",
       "      <td>27.0</td>\n",
       "      <td>3.8</td>\n",
       "      <td>8.6</td>\n",
       "      <td>19.0</td>\n",
       "      <td>15.2</td>\n",
       "      <td>90.2</td>\n",
       "    </tr>\n",
       "    <tr>\n",
       "      <th>20</th>\n",
       "      <td>21</td>\n",
       "      <td>FINLAND</td>\n",
       "      <td>5</td>\n",
       "      <td>2</td>\n",
       "      <td>85.0</td>\n",
       "      <td>24.6</td>\n",
       "      <td>30.8</td>\n",
       "      <td>64.8</td>\n",
       "      <td>47.5</td>\n",
       "      <td>20.2</td>\n",
       "      <td>...</td>\n",
       "      <td>15.4</td>\n",
       "      <td>83.1</td>\n",
       "      <td>34.2</td>\n",
       "      <td>12.2</td>\n",
       "      <td>22.0</td>\n",
       "      <td>3.4</td>\n",
       "      <td>6.2</td>\n",
       "      <td>18.8</td>\n",
       "      <td>14.6</td>\n",
       "      <td>98.0</td>\n",
       "    </tr>\n",
       "    <tr>\n",
       "      <th>21</th>\n",
       "      <td>22</td>\n",
       "      <td>NEW ZEALAND</td>\n",
       "      <td>5</td>\n",
       "      <td>2</td>\n",
       "      <td>85.8</td>\n",
       "      <td>20.2</td>\n",
       "      <td>27.8</td>\n",
       "      <td>65.0</td>\n",
       "      <td>42.8</td>\n",
       "      <td>16.4</td>\n",
       "      <td>...</td>\n",
       "      <td>24.2</td>\n",
       "      <td>77.7</td>\n",
       "      <td>37.2</td>\n",
       "      <td>12.4</td>\n",
       "      <td>24.8</td>\n",
       "      <td>1.6</td>\n",
       "      <td>6.4</td>\n",
       "      <td>23.6</td>\n",
       "      <td>16.0</td>\n",
       "      <td>87.6</td>\n",
       "    </tr>\n",
       "    <tr>\n",
       "      <th>22</th>\n",
       "      <td>23</td>\n",
       "      <td>LEBANON</td>\n",
       "      <td>5</td>\n",
       "      <td>2</td>\n",
       "      <td>79.4</td>\n",
       "      <td>19.4</td>\n",
       "      <td>28.6</td>\n",
       "      <td>60.8</td>\n",
       "      <td>47.0</td>\n",
       "      <td>19.4</td>\n",
       "      <td>...</td>\n",
       "      <td>17.0</td>\n",
       "      <td>76.5</td>\n",
       "      <td>30.4</td>\n",
       "      <td>9.8</td>\n",
       "      <td>20.6</td>\n",
       "      <td>1.8</td>\n",
       "      <td>6.8</td>\n",
       "      <td>19.6</td>\n",
       "      <td>14.4</td>\n",
       "      <td>83.8</td>\n",
       "    </tr>\n",
       "    <tr>\n",
       "      <th>23</th>\n",
       "      <td>24</td>\n",
       "      <td>PHILIPPINES</td>\n",
       "      <td>5</td>\n",
       "      <td>1</td>\n",
       "      <td>79.6</td>\n",
       "      <td>16.0</td>\n",
       "      <td>29.0</td>\n",
       "      <td>66.0</td>\n",
       "      <td>43.9</td>\n",
       "      <td>21.2</td>\n",
       "      <td>...</td>\n",
       "      <td>19.0</td>\n",
       "      <td>72.6</td>\n",
       "      <td>41.4</td>\n",
       "      <td>11.2</td>\n",
       "      <td>30.2</td>\n",
       "      <td>4.2</td>\n",
       "      <td>6.0</td>\n",
       "      <td>19.2</td>\n",
       "      <td>14.0</td>\n",
       "      <td>86.8</td>\n",
       "    </tr>\n",
       "    <tr>\n",
       "      <th>24</th>\n",
       "      <td>25</td>\n",
       "      <td>MEXICO</td>\n",
       "      <td>5</td>\n",
       "      <td>2</td>\n",
       "      <td>82.0</td>\n",
       "      <td>22.2</td>\n",
       "      <td>29.4</td>\n",
       "      <td>65.8</td>\n",
       "      <td>44.7</td>\n",
       "      <td>20.4</td>\n",
       "      <td>...</td>\n",
       "      <td>18.8</td>\n",
       "      <td>75.5</td>\n",
       "      <td>32.6</td>\n",
       "      <td>9.2</td>\n",
       "      <td>23.4</td>\n",
       "      <td>1.0</td>\n",
       "      <td>7.6</td>\n",
       "      <td>21.0</td>\n",
       "      <td>13.2</td>\n",
       "      <td>87.4</td>\n",
       "    </tr>\n",
       "    <tr>\n",
       "      <th>25</th>\n",
       "      <td>26</td>\n",
       "      <td>ANGOLA</td>\n",
       "      <td>5</td>\n",
       "      <td>1</td>\n",
       "      <td>73.6</td>\n",
       "      <td>17.0</td>\n",
       "      <td>24.8</td>\n",
       "      <td>69.6</td>\n",
       "      <td>35.6</td>\n",
       "      <td>19.0</td>\n",
       "      <td>...</td>\n",
       "      <td>27.2</td>\n",
       "      <td>66.9</td>\n",
       "      <td>42.4</td>\n",
       "      <td>20.0</td>\n",
       "      <td>22.4</td>\n",
       "      <td>2.8</td>\n",
       "      <td>8.2</td>\n",
       "      <td>25.6</td>\n",
       "      <td>11.4</td>\n",
       "      <td>71.4</td>\n",
       "    </tr>\n",
       "    <tr>\n",
       "      <th>26</th>\n",
       "      <td>27</td>\n",
       "      <td>COTE D'IVORE</td>\n",
       "      <td>5</td>\n",
       "      <td>1</td>\n",
       "      <td>74.6</td>\n",
       "      <td>17.2</td>\n",
       "      <td>25.8</td>\n",
       "      <td>64.4</td>\n",
       "      <td>40.1</td>\n",
       "      <td>17.2</td>\n",
       "      <td>...</td>\n",
       "      <td>16.6</td>\n",
       "      <td>86.7</td>\n",
       "      <td>32.6</td>\n",
       "      <td>10.6</td>\n",
       "      <td>22.0</td>\n",
       "      <td>1.8</td>\n",
       "      <td>10.0</td>\n",
       "      <td>20.0</td>\n",
       "      <td>11.6</td>\n",
       "      <td>79.8</td>\n",
       "    </tr>\n",
       "    <tr>\n",
       "      <th>27</th>\n",
       "      <td>28</td>\n",
       "      <td>CAPE VERDE</td>\n",
       "      <td>5</td>\n",
       "      <td>1</td>\n",
       "      <td>73.2</td>\n",
       "      <td>16.4</td>\n",
       "      <td>26.8</td>\n",
       "      <td>66.6</td>\n",
       "      <td>40.2</td>\n",
       "      <td>20.6</td>\n",
       "      <td>...</td>\n",
       "      <td>19.8</td>\n",
       "      <td>67.7</td>\n",
       "      <td>38.2</td>\n",
       "      <td>13.8</td>\n",
       "      <td>24.4</td>\n",
       "      <td>3.2</td>\n",
       "      <td>7.6</td>\n",
       "      <td>21.2</td>\n",
       "      <td>13.8</td>\n",
       "      <td>75.2</td>\n",
       "    </tr>\n",
       "    <tr>\n",
       "      <th>28</th>\n",
       "      <td>29</td>\n",
       "      <td>CHINA</td>\n",
       "      <td>5</td>\n",
       "      <td>1</td>\n",
       "      <td>75.8</td>\n",
       "      <td>18.6</td>\n",
       "      <td>26.6</td>\n",
       "      <td>59.4</td>\n",
       "      <td>44.8</td>\n",
       "      <td>19.4</td>\n",
       "      <td>...</td>\n",
       "      <td>21.6</td>\n",
       "      <td>71.3</td>\n",
       "      <td>31.0</td>\n",
       "      <td>7.4</td>\n",
       "      <td>23.6</td>\n",
       "      <td>2.8</td>\n",
       "      <td>5.0</td>\n",
       "      <td>22.0</td>\n",
       "      <td>12.8</td>\n",
       "      <td>76.6</td>\n",
       "    </tr>\n",
       "    <tr>\n",
       "      <th>29</th>\n",
       "      <td>30</td>\n",
       "      <td>VENEZEULA</td>\n",
       "      <td>5</td>\n",
       "      <td>0</td>\n",
       "      <td>74.2</td>\n",
       "      <td>19.6</td>\n",
       "      <td>28.0</td>\n",
       "      <td>66.8</td>\n",
       "      <td>41.9</td>\n",
       "      <td>16.2</td>\n",
       "      <td>...</td>\n",
       "      <td>10.0</td>\n",
       "      <td>64.0</td>\n",
       "      <td>33.4</td>\n",
       "      <td>11.4</td>\n",
       "      <td>22.0</td>\n",
       "      <td>1.6</td>\n",
       "      <td>7.0</td>\n",
       "      <td>21.8</td>\n",
       "      <td>12.8</td>\n",
       "      <td>75.8</td>\n",
       "    </tr>\n",
       "    <tr>\n",
       "      <th>30</th>\n",
       "      <td>31</td>\n",
       "      <td>IRAN</td>\n",
       "      <td>5</td>\n",
       "      <td>0</td>\n",
       "      <td>64.2</td>\n",
       "      <td>18.2</td>\n",
       "      <td>23.2</td>\n",
       "      <td>62.8</td>\n",
       "      <td>36.9</td>\n",
       "      <td>15.8</td>\n",
       "      <td>...</td>\n",
       "      <td>14.0</td>\n",
       "      <td>74.3</td>\n",
       "      <td>33.4</td>\n",
       "      <td>11.0</td>\n",
       "      <td>22.4</td>\n",
       "      <td>1.8</td>\n",
       "      <td>6.6</td>\n",
       "      <td>18.8</td>\n",
       "      <td>11.8</td>\n",
       "      <td>66.8</td>\n",
       "    </tr>\n",
       "    <tr>\n",
       "      <th>31</th>\n",
       "      <td>32</td>\n",
       "      <td>JORDAN</td>\n",
       "      <td>5</td>\n",
       "      <td>0</td>\n",
       "      <td>73.8</td>\n",
       "      <td>18.0</td>\n",
       "      <td>25.0</td>\n",
       "      <td>62.6</td>\n",
       "      <td>39.9</td>\n",
       "      <td>17.8</td>\n",
       "      <td>...</td>\n",
       "      <td>23.2</td>\n",
       "      <td>71.6</td>\n",
       "      <td>34.0</td>\n",
       "      <td>10.0</td>\n",
       "      <td>24.0</td>\n",
       "      <td>2.4</td>\n",
       "      <td>8.4</td>\n",
       "      <td>21.2</td>\n",
       "      <td>15.8</td>\n",
       "      <td>74.0</td>\n",
       "    </tr>\n",
       "  </tbody>\n",
       "</table>\n",
       "<p>32 rows × 26 columns</p>\n",
       "</div>"
      ],
      "text/plain": [
       "    POSITION                TEAM  GP  GW    PPG   APG  FGMPG  FGAPG  FG PCT  \\\n",
       "0          1             GERMANY   8   8   93.0  22.5   33.5   65.5    51.1   \n",
       "1          2              SERBIA   8   6   95.1  23.6   33.8   62.3    54.3   \n",
       "2          3              CANADA   8   6   98.8  22.3   33.6   67.3    49.9   \n",
       "3          4                 USA   8   5  104.5  23.9   36.8   68.6    53.6   \n",
       "4          5              LATVIA   8   6   89.3  24.4   33.0   64.1    51.5   \n",
       "5          6           LITHUANIA   8   6   89.1  21.4   32.8   64.5    50.9   \n",
       "6          7            SLOVENIA   8   5   88.0  18.3   28.0   61.3    45.7   \n",
       "7          8               ITALY   8   4   79.3  19.5   28.4   67.0    42.4   \n",
       "8          9               SPAIN   5   3   85.8  27.8   30.2   61.6    49.0   \n",
       "9         10           AUSTRALIA   5   3   93.8  23.2   35.0   68.8    50.9   \n",
       "10        11          MONTENEGRO   5   3   79.4  17.0   29.6   67.6    43.8   \n",
       "11        12         PUERTO RICO   5   3   88.8  19.8   30.8   68.4    45.0   \n",
       "12        13              BRAZIL   5   3   84.0  21.4   28.6   63.6    45.0   \n",
       "13        14  DOMINICAN REPUBLIC   5   3   85.0  18.6   28.2   65.8    42.9   \n",
       "14        15              GREECE   5   2   78.4  17.8   29.0   66.6    43.5   \n",
       "15        16             GEORGIA   5   2   75.8  19.4   26.6   61.0    43.6   \n",
       "16        17         SOUTH SUDAN   5   3   91.2  22.6   31.4   65.8    47.7   \n",
       "17        18              FRANCE   5   3   81.0  22.0   29.2   58.6    49.8   \n",
       "18        19               JAPAN   5   3   83.2  21.2   28.6   64.8    44.1   \n",
       "19        20               EGYPT   5   2   82.4  17.6   31.4   66.0    47.6   \n",
       "20        21             FINLAND   5   2   85.0  24.6   30.8   64.8    47.5   \n",
       "21        22         NEW ZEALAND   5   2   85.8  20.2   27.8   65.0    42.8   \n",
       "22        23             LEBANON   5   2   79.4  19.4   28.6   60.8    47.0   \n",
       "23        24         PHILIPPINES   5   1   79.6  16.0   29.0   66.0    43.9   \n",
       "24        25              MEXICO   5   2   82.0  22.2   29.4   65.8    44.7   \n",
       "25        26              ANGOLA   5   1   73.6  17.0   24.8   69.6    35.6   \n",
       "26        27        COTE D'IVORE   5   1   74.6  17.2   25.8   64.4    40.1   \n",
       "27        28          CAPE VERDE   5   1   73.2  16.4   26.8   66.6    40.2   \n",
       "28        29               CHINA   5   1   75.8  18.6   26.6   59.4    44.8   \n",
       "29        30           VENEZEULA   5   0   74.2  19.6   28.0   66.8    41.9   \n",
       "30        31                IRAN   5   0   64.2  18.2   23.2   62.8    36.9   \n",
       "31        32              JORDAN   5   0   73.8  18.0   25.0   62.6    39.9   \n",
       "\n",
       "    2PMPG  ...  FTAPG  FT PCT   RPG  ORPG  DRPG  BLKPG  STLPG  PFPG  TOPG  \\\n",
       "0    22.1  ...   18.5    79.1  36.1  10.5  25.6    2.1    8.1  18.5  10.5   \n",
       "1    23.8  ...   22.5    78.3  34.1   8.6  25.5    2.9    9.1  17.4  10.3   \n",
       "2    20.9  ...   24.1    77.7  36.6  12.0  24.6    2.4    7.6  19.8  11.0   \n",
       "3    26.5  ...   26.1    79.4  39.6   9.9  29.8    5.4    9.0  18.1  13.5   \n",
       "4    19.3  ...   12.8    74.5  39.8   7.6  24.6    2.8    6.3  20.4   9.8   \n",
       "5    22.0  ...   17.4    74.1  39.8  11.8  28.0    3.8    4.3  19.9  12.0   \n",
       "6    16.0  ...   25.8    77.7  35.1  10.8  24.4    0.9    7.0  21.8  12.6   \n",
       "7    18.8  ...   16.1    79.8  37.3  11.6  25.6    2.1    7.0  19.8  11.4   \n",
       "8    21.0  ...   22.4    72.3  38.6  12.6  26.0    3.8    7.2  20.6  12.6   \n",
       "9    25.6  ...   18.4    78.3  36.2  10.2  26.0    3.8    7.4  18.2  11.6   \n",
       "10   23.0  ...   18.0    75.6  38.6  14.0  24.6    2.2    9.0  19.8  12.8   \n",
       "11   19.2  ...   21.4    72.9  38.4  12.0  26.4    2.6    7.8  17.2  13.8   \n",
       "12   18.8  ...   20.4    83.3  40.4  12.6  27.8    3.0    5.0  18.4  11.6   \n",
       "13   18.4  ...   24.2    77.7  36.4  11.2  25.2    2.6    6.0  22.0  13.4   \n",
       "14   19.4  ...   16.0    67.5  31.6  12.0  19.6    2.8    7.2  21.2   8.8   \n",
       "15   20.0  ...   20.0    80.0  38.4  10.4  28.0    2.0    6.8  21.0  16.2   \n",
       "16   21.2  ...   22.4    74.1  36.8   9.8  27.0    4.4    6.6  20.8  11.0   \n",
       "17   19.8  ...   19.6    67.3  36.8  11.2  25.6    4.8    8.0  16.8  15.4   \n",
       "18   18.4  ...   19.6    80.6  35.0   8.6  26.4    3.4    6.2  15.4  13.2   \n",
       "19   24.6  ...   20.0    64.0  39.2  12.2  27.0    3.8    8.6  19.0  15.2   \n",
       "20   20.2  ...   15.4    83.1  34.2  12.2  22.0    3.4    6.2  18.8  14.6   \n",
       "21   16.4  ...   24.2    77.7  37.2  12.4  24.8    1.6    6.4  23.6  16.0   \n",
       "22   19.4  ...   17.0    76.5  30.4   9.8  20.6    1.8    6.8  19.6  14.4   \n",
       "23   21.2  ...   19.0    72.6  41.4  11.2  30.2    4.2    6.0  19.2  14.0   \n",
       "24   20.4  ...   18.8    75.5  32.6   9.2  23.4    1.0    7.6  21.0  13.2   \n",
       "25   19.0  ...   27.2    66.9  42.4  20.0  22.4    2.8    8.2  25.6  11.4   \n",
       "26   17.2  ...   16.6    86.7  32.6  10.6  22.0    1.8   10.0  20.0  11.6   \n",
       "27   20.6  ...   19.8    67.7  38.2  13.8  24.4    3.2    7.6  21.2  13.8   \n",
       "28   19.4  ...   21.6    71.3  31.0   7.4  23.6    2.8    5.0  22.0  12.8   \n",
       "29   16.2  ...   10.0    64.0  33.4  11.4  22.0    1.6    7.0  21.8  12.8   \n",
       "30   15.8  ...   14.0    74.3  33.4  11.0  22.4    1.8    6.6  18.8  11.8   \n",
       "31   17.8  ...   23.2    71.6  34.0  10.0  24.0    2.4    8.4  21.2  15.8   \n",
       "\n",
       "    EFFPG  \n",
       "0   112.5  \n",
       "1   117.9  \n",
       "2   114.9  \n",
       "3   128.8  \n",
       "4   107.4  \n",
       "5   106.9  \n",
       "6    94.9  \n",
       "7    88.3  \n",
       "8   107.8  \n",
       "9   112.0  \n",
       "10   88.0  \n",
       "11   97.4  \n",
       "12   98.2  \n",
       "13   88.8  \n",
       "14   81.4  \n",
       "15   82.2  \n",
       "16  106.8  \n",
       "17   98.0  \n",
       "18   91.2  \n",
       "19   90.2  \n",
       "20   98.0  \n",
       "21   87.6  \n",
       "22   83.8  \n",
       "23   86.8  \n",
       "24   87.4  \n",
       "25   71.4  \n",
       "26   79.8  \n",
       "27   75.2  \n",
       "28   76.6  \n",
       "29   75.8  \n",
       "30   66.8  \n",
       "31   74.0  \n",
       "\n",
       "[32 rows x 26 columns]"
      ]
     },
     "execution_count": 3,
     "metadata": {},
     "output_type": "execute_result"
    }
   ],
   "source": [
    "import pandas as pd #librería para manejo de datos\n",
    "#Importar la librería y crearle el alias pd\n",
    "\n",
    "data = pd.read_csv ('WC2023.csv')\n",
    "#Cargar el contenido de la base de datos WC2023.csv en el DataFrame data\n",
    "#DataFrame = tabla en pandas\n",
    "\n",
    "data\n",
    "#Imprimir el DataFrame"
   ]
  },
  {
   "cell_type": "code",
   "execution_count": 4,
   "metadata": {},
   "outputs": [
    {
     "data": {
      "text/html": [
       "<table class=\"simpletable\">\n",
       "<caption>OLS Regression Results</caption>\n",
       "<tr>\n",
       "  <th>Dep. Variable:</th>           <td>PPG</td>       <th>  R-squared:         </th> <td>   0.924</td>\n",
       "</tr>\n",
       "<tr>\n",
       "  <th>Model:</th>                   <td>OLS</td>       <th>  Adj. R-squared:    </th> <td>   0.919</td>\n",
       "</tr>\n",
       "<tr>\n",
       "  <th>Method:</th>             <td>Least Squares</td>  <th>  F-statistic:       </th> <td>   176.1</td>\n",
       "</tr>\n",
       "<tr>\n",
       "  <th>Date:</th>             <td>Sun, 03 Dec 2023</td> <th>  Prob (F-statistic):</th> <td>6.01e-17</td>\n",
       "</tr>\n",
       "<tr>\n",
       "  <th>Time:</th>                 <td>15:12:05</td>     <th>  Log-Likelihood:    </th> <td> -72.241</td>\n",
       "</tr>\n",
       "<tr>\n",
       "  <th>No. Observations:</th>      <td>    32</td>      <th>  AIC:               </th> <td>   150.5</td>\n",
       "</tr>\n",
       "<tr>\n",
       "  <th>Df Residuals:</th>          <td>    29</td>      <th>  BIC:               </th> <td>   154.9</td>\n",
       "</tr>\n",
       "<tr>\n",
       "  <th>Df Model:</th>              <td>     2</td>      <th>                     </th>     <td> </td>   \n",
       "</tr>\n",
       "<tr>\n",
       "  <th>Covariance Type:</th>      <td>nonrobust</td>    <th>                     </th>     <td> </td>   \n",
       "</tr>\n",
       "</table>\n",
       "<table class=\"simpletable\">\n",
       "<tr>\n",
       "    <td></td>       <th>coef</th>     <th>std err</th>      <th>t</th>      <th>P>|t|</th>  <th>[0.025</th>    <th>0.975]</th>  \n",
       "</tr>\n",
       "<tr>\n",
       "  <th>const</th> <td>   37.3335</td> <td>    3.197</td> <td>   11.677</td> <td> 0.000</td> <td>   30.794</td> <td>   43.873</td>\n",
       "</tr>\n",
       "<tr>\n",
       "  <th>EFFPG</th> <td>    0.6154</td> <td>    0.045</td> <td>   13.769</td> <td> 0.000</td> <td>    0.524</td> <td>    0.707</td>\n",
       "</tr>\n",
       "<tr>\n",
       "  <th>APG</th>   <td>   -0.5517</td> <td>    0.239</td> <td>   -2.308</td> <td> 0.028</td> <td>   -1.041</td> <td>   -0.063</td>\n",
       "</tr>\n",
       "</table>\n",
       "<table class=\"simpletable\">\n",
       "<tr>\n",
       "  <th>Omnibus:</th>       <td> 0.192</td> <th>  Durbin-Watson:     </th> <td>   2.410</td>\n",
       "</tr>\n",
       "<tr>\n",
       "  <th>Prob(Omnibus):</th> <td> 0.909</td> <th>  Jarque-Bera (JB):  </th> <td>   0.333</td>\n",
       "</tr>\n",
       "<tr>\n",
       "  <th>Skew:</th>          <td> 0.157</td> <th>  Prob(JB):          </th> <td>   0.847</td>\n",
       "</tr>\n",
       "<tr>\n",
       "  <th>Kurtosis:</th>      <td> 2.611</td> <th>  Cond. No.          </th> <td>    718.</td>\n",
       "</tr>\n",
       "</table><br/><br/>Notes:<br/>[1] Standard Errors assume that the covariance matrix of the errors is correctly specified."
      ],
      "text/latex": [
       "\\begin{center}\n",
       "\\begin{tabular}{lclc}\n",
       "\\toprule\n",
       "\\textbf{Dep. Variable:}    &       PPG        & \\textbf{  R-squared:         } &     0.924   \\\\\n",
       "\\textbf{Model:}            &       OLS        & \\textbf{  Adj. R-squared:    } &     0.919   \\\\\n",
       "\\textbf{Method:}           &  Least Squares   & \\textbf{  F-statistic:       } &     176.1   \\\\\n",
       "\\textbf{Date:}             & Sun, 03 Dec 2023 & \\textbf{  Prob (F-statistic):} &  6.01e-17   \\\\\n",
       "\\textbf{Time:}             &     15:12:05     & \\textbf{  Log-Likelihood:    } &   -72.241   \\\\\n",
       "\\textbf{No. Observations:} &          32      & \\textbf{  AIC:               } &     150.5   \\\\\n",
       "\\textbf{Df Residuals:}     &          29      & \\textbf{  BIC:               } &     154.9   \\\\\n",
       "\\textbf{Df Model:}         &           2      & \\textbf{                     } &             \\\\\n",
       "\\textbf{Covariance Type:}  &    nonrobust     & \\textbf{                     } &             \\\\\n",
       "\\bottomrule\n",
       "\\end{tabular}\n",
       "\\begin{tabular}{lcccccc}\n",
       "               & \\textbf{coef} & \\textbf{std err} & \\textbf{t} & \\textbf{P$> |$t$|$} & \\textbf{[0.025} & \\textbf{0.975]}  \\\\\n",
       "\\midrule\n",
       "\\textbf{const} &      37.3335  &        3.197     &    11.677  &         0.000        &       30.794    &       43.873     \\\\\n",
       "\\textbf{EFFPG} &       0.6154  &        0.045     &    13.769  &         0.000        &        0.524    &        0.707     \\\\\n",
       "\\textbf{APG}   &      -0.5517  &        0.239     &    -2.308  &         0.028        &       -1.041    &       -0.063     \\\\\n",
       "\\bottomrule\n",
       "\\end{tabular}\n",
       "\\begin{tabular}{lclc}\n",
       "\\textbf{Omnibus:}       &  0.192 & \\textbf{  Durbin-Watson:     } &    2.410  \\\\\n",
       "\\textbf{Prob(Omnibus):} &  0.909 & \\textbf{  Jarque-Bera (JB):  } &    0.333  \\\\\n",
       "\\textbf{Skew:}          &  0.157 & \\textbf{  Prob(JB):          } &    0.847  \\\\\n",
       "\\textbf{Kurtosis:}      &  2.611 & \\textbf{  Cond. No.          } &     718.  \\\\\n",
       "\\bottomrule\n",
       "\\end{tabular}\n",
       "%\\caption{OLS Regression Results}\n",
       "\\end{center}\n",
       "\n",
       "Notes: \\newline\n",
       " [1] Standard Errors assume that the covariance matrix of the errors is correctly specified."
      ],
      "text/plain": [
       "<class 'statsmodels.iolib.summary.Summary'>\n",
       "\"\"\"\n",
       "                            OLS Regression Results                            \n",
       "==============================================================================\n",
       "Dep. Variable:                    PPG   R-squared:                       0.924\n",
       "Model:                            OLS   Adj. R-squared:                  0.919\n",
       "Method:                 Least Squares   F-statistic:                     176.1\n",
       "Date:                Sun, 03 Dec 2023   Prob (F-statistic):           6.01e-17\n",
       "Time:                        15:12:05   Log-Likelihood:                -72.241\n",
       "No. Observations:                  32   AIC:                             150.5\n",
       "Df Residuals:                      29   BIC:                             154.9\n",
       "Df Model:                           2                                         \n",
       "Covariance Type:            nonrobust                                         \n",
       "==============================================================================\n",
       "                 coef    std err          t      P>|t|      [0.025      0.975]\n",
       "------------------------------------------------------------------------------\n",
       "const         37.3335      3.197     11.677      0.000      30.794      43.873\n",
       "EFFPG          0.6154      0.045     13.769      0.000       0.524       0.707\n",
       "APG           -0.5517      0.239     -2.308      0.028      -1.041      -0.063\n",
       "==============================================================================\n",
       "Omnibus:                        0.192   Durbin-Watson:                   2.410\n",
       "Prob(Omnibus):                  0.909   Jarque-Bera (JB):                0.333\n",
       "Skew:                           0.157   Prob(JB):                        0.847\n",
       "Kurtosis:                       2.611   Cond. No.                         718.\n",
       "==============================================================================\n",
       "\n",
       "Notes:\n",
       "[1] Standard Errors assume that the covariance matrix of the errors is correctly specified.\n",
       "\"\"\""
      ]
     },
     "execution_count": 4,
     "metadata": {},
     "output_type": "execute_result"
    }
   ],
   "source": [
    "import statsmodels.api as sm\n",
    "#Biblioteca con herramientas para la estimación y prueba de modelos estadísticos\n",
    "\n",
    "X=data[['EFFPG', 'APG']]\n",
    "#Definir columnas que actúan como variables independientes/predictores\n",
    "y=data['PPG']\n",
    "#Definir variable dependiente\n",
    "\n",
    "mco1 = sm.OLS(y, sm.add_constant(X)).fit()\n",
    "# Asumiendo que y es la variable dependiente y X son las variables independientes\n",
    "# Agregamos una constante a la matriz de diseño X usando sm.add_constant()\n",
    "# Creamos un modelo de regresión lineal con OLS\n",
    "\n",
    "mco1.summary()\n",
    "#Mostrar resumen"
   ]
  },
  {
   "cell_type": "markdown",
   "metadata": {},
   "source": [
    "Hemos analizado una base de datos (proveniente de Kaggle) que describe las estadísticas de las selecciones en la copa mundial de baloncesto de 2023.\n",
    "\n",
    "Para ello vamos a tomar como variable dependiente el número de puntos que se hace en un juego (PPG).\n",
    "\n",
    "Con este fin, las variables independientes que hemos considerado especialmente relevantes en nuestro análisis y que pueden afectar de manera más considerable, son las siguientes: \n",
    "\n",
    "\n",
    "EFFPG: Eficiencia por juego\n",
    "\n",
    "APG: Asistencias por partido\n",
    "\n",
    "El coeficiente de determinación R² estima la efectividad del método según las variables seleccionadas. Este debe tomar un valor alto para ser fiable. En nuestro caso, con 2 variables hemos conseguido un 91%.\n",
    "\n",
    "En conclusión, nuestro modelo es efectivo."
   ]
  },
  {
   "cell_type": "code",
   "execution_count": null,
   "metadata": {},
   "outputs": [
    {
     "name": "stdout",
     "output_type": "stream",
     "text": [
      "Nuestras variables exógenas son las siguientes (Intercept son las constantes a 1): \n",
      "['const', 'EFFPG', 'APG']\n"
     ]
    }
   ],
   "source": [
    "print(\"Nuestras variables exógenas son las siguientes (Intercept son las constantes a 1): \")\n",
    "print(mco1.model.exog_names)"
   ]
  },
  {
   "cell_type": "markdown",
   "metadata": {},
   "source": [
    "## Práctica 1: Estimación e Inferencia en Modelos de Regresión Lineales"
   ]
  },
  {
   "cell_type": "code",
   "execution_count": 5,
   "metadata": {},
   "outputs": [
    {
     "name": "stdout",
     "output_type": "stream",
     "text": [
      "   POSITION     TEAM  GP  GW    PPG   APG  FGMPG  FGAPG  FG PCT  2PMPG  ...  \\\n",
      "0         1  GERMANY   8   8   93.0  22.5   33.5   65.5    51.1   22.1  ...   \n",
      "1         2   SERBIA   8   6   95.1  23.6   33.8   62.3    54.3   23.8  ...   \n",
      "2         3   CANADA   8   6   98.8  22.3   33.6   67.3    49.9   20.9  ...   \n",
      "3         4      USA   8   5  104.5  23.9   36.8   68.6    53.6   26.5  ...   \n",
      "4         5   LATVIA   8   6   89.3  24.4   33.0   64.1    51.5   19.3  ...   \n",
      "\n",
      "   FTAPG  FT PCT   RPG  ORPG  DRPG  BLKPG  STLPG  PFPG  TOPG  EFFPG  \n",
      "0   18.5    79.1  36.1  10.5  25.6    2.1    8.1  18.5  10.5  112.5  \n",
      "1   22.5    78.3  34.1   8.6  25.5    2.9    9.1  17.4  10.3  117.9  \n",
      "2   24.1    77.7  36.6  12.0  24.6    2.4    7.6  19.8  11.0  114.9  \n",
      "3   26.1    79.4  39.6   9.9  29.8    5.4    9.0  18.1  13.5  128.8  \n",
      "4   12.8    74.5  39.8   7.6  24.6    2.8    6.3  20.4   9.8  107.4  \n",
      "\n",
      "[5 rows x 26 columns]\n"
     ]
    }
   ],
   "source": [
    "import pandas as pd\n",
    "#Proporciona estructuras de datos flexibles (DataFrame) y herramientas de análisis de datos\n",
    "import numpy as np\n",
    "#Soporte para matrices y operaciones matriciales\n",
    "import statsmodels.api as sm\n",
    "#Realizar regresiones lineales y obtener resúmenes detallados de los resultados\n",
    "import statsmodels.formula.api as smf\n",
    "#Interfaz para ajustar modelos estadísticos utilizando Mínimos Cuadrados Ordinarios (MCO)\n",
    "import matplotlib.pylab as plt\n",
    "#Creación de gráficos\n",
    "\n",
    "# Visualizar la descripción de las variables en el archivo\n",
    "print(data.head())  # Muestra las primeras filas de los datos cargados\n"
   ]
  },
  {
   "cell_type": "markdown",
   "metadata": {},
   "source": [
    "### Estadísticos Descriptivos:"
   ]
  },
  {
   "cell_type": "code",
   "execution_count": 6,
   "metadata": {},
   "outputs": [
    {
     "data": {
      "image/png": "[encoded data removed]",
      "text/plain": [
       "<Figure size 640x480 with 1 Axes>"
      ]
     },
     "metadata": {},
     "output_type": "display_data"
    },
    {
     "name": "stdout",
     "output_type": "stream",
     "text": [
      "Q1:  77.75 Mediana:  82.80000000000001 Q3:  88.875 Desviación Típica:  8.38607418488383 NP:  83.34687500000001\n"
     ]
    }
   ],
   "source": [
    "import numpy as np  # Importa la librería NumPy y la renombra como np\n",
    "import matplotlib.pyplot as plt  # Importa la librería Matplotlib y la renombra como plt\n",
    "\n",
    "#Media\n",
    "media=np.mean(y)\n",
    "#Cuartil 1 / Percentil 25\n",
    "Q1=np.quantile(y, 0.25)\n",
    "#Cuartil 3 / Percentil 75\n",
    "Q3=np.quantile(y, 0.75)\n",
    "#Varianza\n",
    "Varianza=np.var(y)\n",
    "#DT\n",
    "DesviacionTipica=np.std(y)\n",
    "#Mediana / cuartil 2 / percentil 50\n",
    "Mediana=np.median(y)\n",
    "\n",
    "#Histograma: representación visual de la distribución de un conjunto de datos\n",
    "histograma=plt.hist(y, bins='auto', rwidth=0.85)\n",
    "plt.xlabel('Eficiencia y Asistencias')\n",
    "plt.ylabel('Puntos totales')\n",
    "plt.title(\"Mundial de Baloncesto\")\n",
    "plt.show()\n",
    "print(\"Q1: \", Q1, \"Mediana: \", Mediana,\"Q3: \", Q3, \"Desviación Típica: \",  DesviacionTipica, \"NP: \",  np.mean(y))"
   ]
  },
  {
   "cell_type": "markdown",
   "metadata": {},
   "source": [
    "- Media: Es el promedio de todos los valores en nuestros datos 'y'. En este caso, la media es aproximadamente 83.347.\n",
    "\n",
    "- Q1: Este es el primer cuartil (Q1), que representa el valor por debajo del cual se encuentra el 25% de las observaciones en nuestros datos 'y'. En este caso, el valor es 77.75.\n",
    "\n",
    "- Mediana: Es el valor que se encuentra en el centro de tus datos cuando están ordenados de menor a mayor. El 50% de nuestros datos datos están por encima de la mediana y el otro 50% por debajo. En este caso, la mediana es aproximadamente 82.8.\n",
    "\n",
    "- Q3: Este es el tercer cuartil (Q3), que representa el valor por debajo del cual se encuentra el 75% de las observaciones en nuestros datos 'y'. El 25% restante está por encima de este valor. Aquí, el valor es 88.875.\n",
    "\n",
    "- Desviación Típica: Es una medida de dispersión que indica cuánto se desvían los valores individuales de la media. Cuanto mayor sea la desviación típica, mayor será la dispersión de los datos. El valor de la  desviación típica es aproximadamente 8.386."
   ]
  },
  {
   "cell_type": "markdown",
   "metadata": {},
   "source": [
    "Ahora ajustamos el modelo 𝑦=𝑋𝛽+𝑢 y extraemos un resumen del resultado:"
   ]
  },
  {
   "cell_type": "code",
   "execution_count": 7,
   "metadata": {},
   "outputs": [
    {
     "data": {
      "text/html": [
       "<table class=\"simpletable\">\n",
       "<caption>OLS Regression Results</caption>\n",
       "<tr>\n",
       "  <th>Dep. Variable:</th>           <td>PPG</td>       <th>  R-squared (uncentered):</th>      <td>   0.996</td>\n",
       "</tr>\n",
       "<tr>\n",
       "  <th>Model:</th>                   <td>OLS</td>       <th>  Adj. R-squared (uncentered):</th> <td>   0.995</td>\n",
       "</tr>\n",
       "<tr>\n",
       "  <th>Method:</th>             <td>Least Squares</td>  <th>  F-statistic:       </th>          <td>   3435.</td>\n",
       "</tr>\n",
       "<tr>\n",
       "  <th>Date:</th>             <td>Sun, 03 Dec 2023</td> <th>  Prob (F-statistic):</th>          <td>3.75e-36</td>\n",
       "</tr>\n",
       "<tr>\n",
       "  <th>Time:</th>                 <td>22:01:40</td>     <th>  Log-Likelihood:    </th>          <td> -100.09</td>\n",
       "</tr>\n",
       "<tr>\n",
       "  <th>No. Observations:</th>      <td>    32</td>      <th>  AIC:               </th>          <td>   204.2</td>\n",
       "</tr>\n",
       "<tr>\n",
       "  <th>Df Residuals:</th>          <td>    30</td>      <th>  BIC:               </th>          <td>   207.1</td>\n",
       "</tr>\n",
       "<tr>\n",
       "  <th>Df Model:</th>              <td>     2</td>      <th>                     </th>              <td> </td>   \n",
       "</tr>\n",
       "<tr>\n",
       "  <th>Covariance Type:</th>      <td>nonrobust</td>    <th>                     </th>              <td> </td>   \n",
       "</tr>\n",
       "</table>\n",
       "<table class=\"simpletable\">\n",
       "<tr>\n",
       "    <td></td>       <th>coef</th>     <th>std err</th>      <th>t</th>      <th>P>|t|</th>  <th>[0.025</th>    <th>0.975]</th>  \n",
       "</tr>\n",
       "<tr>\n",
       "  <th>EFFPG</th> <td>    0.6865</td> <td>    0.104</td> <td>    6.605</td> <td> 0.000</td> <td>    0.474</td> <td>    0.899</td>\n",
       "</tr>\n",
       "<tr>\n",
       "  <th>APG</th>   <td>    0.9235</td> <td>    0.476</td> <td>    1.938</td> <td> 0.062</td> <td>   -0.050</td> <td>    1.897</td>\n",
       "</tr>\n",
       "</table>\n",
       "<table class=\"simpletable\">\n",
       "<tr>\n",
       "  <th>Omnibus:</th>       <td> 2.643</td> <th>  Durbin-Watson:     </th> <td>   1.255</td>\n",
       "</tr>\n",
       "<tr>\n",
       "  <th>Prob(Omnibus):</th> <td> 0.267</td> <th>  Jarque-Bera (JB):  </th> <td>   2.361</td>\n",
       "</tr>\n",
       "<tr>\n",
       "  <th>Skew:</th>          <td>-0.633</td> <th>  Prob(JB):          </th> <td>   0.307</td>\n",
       "</tr>\n",
       "<tr>\n",
       "  <th>Kurtosis:</th>      <td> 2.590</td> <th>  Cond. No.          </th> <td>    46.6</td>\n",
       "</tr>\n",
       "</table><br/><br/>Notes:<br/>[1] R² is computed without centering (uncentered) since the model does not contain a constant.<br/>[2] Standard Errors assume that the covariance matrix of the errors is correctly specified."
      ],
      "text/latex": [
       "\\begin{center}\n",
       "\\begin{tabular}{lclc}\n",
       "\\toprule\n",
       "\\textbf{Dep. Variable:}    &       PPG        & \\textbf{  R-squared (uncentered):}      &     0.996   \\\\\n",
       "\\textbf{Model:}            &       OLS        & \\textbf{  Adj. R-squared (uncentered):} &     0.995   \\\\\n",
       "\\textbf{Method:}           &  Least Squares   & \\textbf{  F-statistic:       }          &     3435.   \\\\\n",
       "\\textbf{Date:}             & Sun, 03 Dec 2023 & \\textbf{  Prob (F-statistic):}          &  3.75e-36   \\\\\n",
       "\\textbf{Time:}             &     22:01:40     & \\textbf{  Log-Likelihood:    }          &   -100.09   \\\\\n",
       "\\textbf{No. Observations:} &          32      & \\textbf{  AIC:               }          &     204.2   \\\\\n",
       "\\textbf{Df Residuals:}     &          30      & \\textbf{  BIC:               }          &     207.1   \\\\\n",
       "\\textbf{Df Model:}         &           2      & \\textbf{                     }          &             \\\\\n",
       "\\textbf{Covariance Type:}  &    nonrobust     & \\textbf{                     }          &             \\\\\n",
       "\\bottomrule\n",
       "\\end{tabular}\n",
       "\\begin{tabular}{lcccccc}\n",
       "               & \\textbf{coef} & \\textbf{std err} & \\textbf{t} & \\textbf{P$> |$t$|$} & \\textbf{[0.025} & \\textbf{0.975]}  \\\\\n",
       "\\midrule\n",
       "\\textbf{EFFPG} &       0.6865  &        0.104     &     6.605  &         0.000        &        0.474    &        0.899     \\\\\n",
       "\\textbf{APG}   &       0.9235  &        0.476     &     1.938  &         0.062        &       -0.050    &        1.897     \\\\\n",
       "\\bottomrule\n",
       "\\end{tabular}\n",
       "\\begin{tabular}{lclc}\n",
       "\\textbf{Omnibus:}       &  2.643 & \\textbf{  Durbin-Watson:     } &    1.255  \\\\\n",
       "\\textbf{Prob(Omnibus):} &  0.267 & \\textbf{  Jarque-Bera (JB):  } &    2.361  \\\\\n",
       "\\textbf{Skew:}          & -0.633 & \\textbf{  Prob(JB):          } &    0.307  \\\\\n",
       "\\textbf{Kurtosis:}      &  2.590 & \\textbf{  Cond. No.          } &     46.6  \\\\\n",
       "\\bottomrule\n",
       "\\end{tabular}\n",
       "%\\caption{OLS Regression Results}\n",
       "\\end{center}\n",
       "\n",
       "Notes: \\newline\n",
       " [1] R² is computed without centering (uncentered) since the model does not contain a constant. \\newline\n",
       " [2] Standard Errors assume that the covariance matrix of the errors is correctly specified."
      ],
      "text/plain": [
       "<class 'statsmodels.iolib.summary.Summary'>\n",
       "\"\"\"\n",
       "                                 OLS Regression Results                                \n",
       "=======================================================================================\n",
       "Dep. Variable:                    PPG   R-squared (uncentered):                   0.996\n",
       "Model:                            OLS   Adj. R-squared (uncentered):              0.995\n",
       "Method:                 Least Squares   F-statistic:                              3435.\n",
       "Date:                Sun, 03 Dec 2023   Prob (F-statistic):                    3.75e-36\n",
       "Time:                        22:01:40   Log-Likelihood:                         -100.09\n",
       "No. Observations:                  32   AIC:                                      204.2\n",
       "Df Residuals:                      30   BIC:                                      207.1\n",
       "Df Model:                           2                                                  \n",
       "Covariance Type:            nonrobust                                                  \n",
       "==============================================================================\n",
       "                 coef    std err          t      P>|t|      [0.025      0.975]\n",
       "------------------------------------------------------------------------------\n",
       "EFFPG          0.6865      0.104      6.605      0.000       0.474       0.899\n",
       "APG            0.9235      0.476      1.938      0.062      -0.050       1.897\n",
       "==============================================================================\n",
       "Omnibus:                        2.643   Durbin-Watson:                   1.255\n",
       "Prob(Omnibus):                  0.267   Jarque-Bera (JB):                2.361\n",
       "Skew:                          -0.633   Prob(JB):                        0.307\n",
       "Kurtosis:                       2.590   Cond. No.                         46.6\n",
       "==============================================================================\n",
       "\n",
       "Notes:\n",
       "[1] R² is computed without centering (uncentered) since the model does not contain a constant.\n",
       "[2] Standard Errors assume that the covariance matrix of the errors is correctly specified.\n",
       "\"\"\""
      ]
     },
     "execution_count": 7,
     "metadata": {},
     "output_type": "execute_result"
    }
   ],
   "source": [
    "mco1 = sm.OLS(y, X).fit()\n",
    "mco1.summary()"
   ]
  },
  {
   "cell_type": "markdown",
   "metadata": {},
   "source": [
    "Otra forma para obtener los datos pordría ser la siguiente: "
   ]
  },
  {
   "cell_type": "code",
   "execution_count": null,
   "metadata": {},
   "outputs": [
    {
     "data": {
      "text/html": [
       "<table class=\"simpletable\">\n",
       "<caption>OLS Regression Results</caption>\n",
       "<tr>\n",
       "  <th>Dep. Variable:</th>           <td>PPG</td>       <th>  R-squared:         </th> <td>   0.924</td>\n",
       "</tr>\n",
       "<tr>\n",
       "  <th>Model:</th>                   <td>OLS</td>       <th>  Adj. R-squared:    </th> <td>   0.919</td>\n",
       "</tr>\n",
       "<tr>\n",
       "  <th>Method:</th>             <td>Least Squares</td>  <th>  F-statistic:       </th> <td>   176.1</td>\n",
       "</tr>\n",
       "<tr>\n",
       "  <th>Date:</th>             <td>Sun, 03 Dec 2023</td> <th>  Prob (F-statistic):</th> <td>6.01e-17</td>\n",
       "</tr>\n",
       "<tr>\n",
       "  <th>Time:</th>                 <td>12:34:51</td>     <th>  Log-Likelihood:    </th> <td> -72.241</td>\n",
       "</tr>\n",
       "<tr>\n",
       "  <th>No. Observations:</th>      <td>    32</td>      <th>  AIC:               </th> <td>   150.5</td>\n",
       "</tr>\n",
       "<tr>\n",
       "  <th>Df Residuals:</th>          <td>    29</td>      <th>  BIC:               </th> <td>   154.9</td>\n",
       "</tr>\n",
       "<tr>\n",
       "  <th>Df Model:</th>              <td>     2</td>      <th>                     </th>     <td> </td>   \n",
       "</tr>\n",
       "<tr>\n",
       "  <th>Covariance Type:</th>      <td>nonrobust</td>    <th>                     </th>     <td> </td>   \n",
       "</tr>\n",
       "</table>\n",
       "<table class=\"simpletable\">\n",
       "<tr>\n",
       "      <td></td>         <th>coef</th>     <th>std err</th>      <th>t</th>      <th>P>|t|</th>  <th>[0.025</th>    <th>0.975]</th>  \n",
       "</tr>\n",
       "<tr>\n",
       "  <th>Intercept</th> <td>   37.3335</td> <td>    3.197</td> <td>   11.677</td> <td> 0.000</td> <td>   30.794</td> <td>   43.873</td>\n",
       "</tr>\n",
       "<tr>\n",
       "  <th>EFFPG</th>     <td>    0.6154</td> <td>    0.045</td> <td>   13.769</td> <td> 0.000</td> <td>    0.524</td> <td>    0.707</td>\n",
       "</tr>\n",
       "<tr>\n",
       "  <th>APG</th>       <td>   -0.5517</td> <td>    0.239</td> <td>   -2.308</td> <td> 0.028</td> <td>   -1.041</td> <td>   -0.063</td>\n",
       "</tr>\n",
       "</table>\n",
       "<table class=\"simpletable\">\n",
       "<tr>\n",
       "  <th>Omnibus:</th>       <td> 0.192</td> <th>  Durbin-Watson:     </th> <td>   2.410</td>\n",
       "</tr>\n",
       "<tr>\n",
       "  <th>Prob(Omnibus):</th> <td> 0.909</td> <th>  Jarque-Bera (JB):  </th> <td>   0.333</td>\n",
       "</tr>\n",
       "<tr>\n",
       "  <th>Skew:</th>          <td> 0.157</td> <th>  Prob(JB):          </th> <td>   0.847</td>\n",
       "</tr>\n",
       "<tr>\n",
       "  <th>Kurtosis:</th>      <td> 2.611</td> <th>  Cond. No.          </th> <td>    718.</td>\n",
       "</tr>\n",
       "</table><br/><br/>Notes:<br/>[1] Standard Errors assume that the covariance matrix of the errors is correctly specified."
      ],
      "text/latex": [
       "\\begin{center}\n",
       "\\begin{tabular}{lclc}\n",
       "\\toprule\n",
       "\\textbf{Dep. Variable:}    &       PPG        & \\textbf{  R-squared:         } &     0.924   \\\\\n",
       "\\textbf{Model:}            &       OLS        & \\textbf{  Adj. R-squared:    } &     0.919   \\\\\n",
       "\\textbf{Method:}           &  Least Squares   & \\textbf{  F-statistic:       } &     176.1   \\\\\n",
       "\\textbf{Date:}             & Sun, 03 Dec 2023 & \\textbf{  Prob (F-statistic):} &  6.01e-17   \\\\\n",
       "\\textbf{Time:}             &     12:34:51     & \\textbf{  Log-Likelihood:    } &   -72.241   \\\\\n",
       "\\textbf{No. Observations:} &          32      & \\textbf{  AIC:               } &     150.5   \\\\\n",
       "\\textbf{Df Residuals:}     &          29      & \\textbf{  BIC:               } &     154.9   \\\\\n",
       "\\textbf{Df Model:}         &           2      & \\textbf{                     } &             \\\\\n",
       "\\textbf{Covariance Type:}  &    nonrobust     & \\textbf{                     } &             \\\\\n",
       "\\bottomrule\n",
       "\\end{tabular}\n",
       "\\begin{tabular}{lcccccc}\n",
       "                   & \\textbf{coef} & \\textbf{std err} & \\textbf{t} & \\textbf{P$> |$t$|$} & \\textbf{[0.025} & \\textbf{0.975]}  \\\\\n",
       "\\midrule\n",
       "\\textbf{Intercept} &      37.3335  &        3.197     &    11.677  &         0.000        &       30.794    &       43.873     \\\\\n",
       "\\textbf{EFFPG}     &       0.6154  &        0.045     &    13.769  &         0.000        &        0.524    &        0.707     \\\\\n",
       "\\textbf{APG}       &      -0.5517  &        0.239     &    -2.308  &         0.028        &       -1.041    &       -0.063     \\\\\n",
       "\\bottomrule\n",
       "\\end{tabular}\n",
       "\\begin{tabular}{lclc}\n",
       "\\textbf{Omnibus:}       &  0.192 & \\textbf{  Durbin-Watson:     } &    2.410  \\\\\n",
       "\\textbf{Prob(Omnibus):} &  0.909 & \\textbf{  Jarque-Bera (JB):  } &    0.333  \\\\\n",
       "\\textbf{Skew:}          &  0.157 & \\textbf{  Prob(JB):          } &    0.847  \\\\\n",
       "\\textbf{Kurtosis:}      &  2.611 & \\textbf{  Cond. No.          } &     718.  \\\\\n",
       "\\bottomrule\n",
       "\\end{tabular}\n",
       "%\\caption{OLS Regression Results}\n",
       "\\end{center}\n",
       "\n",
       "Notes: \\newline\n",
       " [1] Standard Errors assume that the covariance matrix of the errors is correctly specified."
      ],
      "text/plain": [
       "<class 'statsmodels.iolib.summary.Summary'>\n",
       "\"\"\"\n",
       "                            OLS Regression Results                            \n",
       "==============================================================================\n",
       "Dep. Variable:                    PPG   R-squared:                       0.924\n",
       "Model:                            OLS   Adj. R-squared:                  0.919\n",
       "Method:                 Least Squares   F-statistic:                     176.1\n",
       "Date:                Sun, 03 Dec 2023   Prob (F-statistic):           6.01e-17\n",
       "Time:                        12:34:51   Log-Likelihood:                -72.241\n",
       "No. Observations:                  32   AIC:                             150.5\n",
       "Df Residuals:                      29   BIC:                             154.9\n",
       "Df Model:                           2                                         \n",
       "Covariance Type:            nonrobust                                         \n",
       "==============================================================================\n",
       "                 coef    std err          t      P>|t|      [0.025      0.975]\n",
       "------------------------------------------------------------------------------\n",
       "Intercept     37.3335      3.197     11.677      0.000      30.794      43.873\n",
       "EFFPG          0.6154      0.045     13.769      0.000       0.524       0.707\n",
       "APG           -0.5517      0.239     -2.308      0.028      -1.041      -0.063\n",
       "==============================================================================\n",
       "Omnibus:                        0.192   Durbin-Watson:                   2.410\n",
       "Prob(Omnibus):                  0.909   Jarque-Bera (JB):                0.333\n",
       "Skew:                           0.157   Prob(JB):                        0.847\n",
       "Kurtosis:                       2.611   Cond. No.                         718.\n",
       "==============================================================================\n",
       "\n",
       "Notes:\n",
       "[1] Standard Errors assume that the covariance matrix of the errors is correctly specified.\n",
       "\"\"\""
      ]
     },
     "execution_count": 75,
     "metadata": {},
     "output_type": "execute_result"
    }
   ],
   "source": [
    "mco1=smf.ols('PPG ~ EFFPG + APG', data=data).fit()\n",
    "mco1.summary()"
   ]
  },
  {
   "cell_type": "markdown",
   "metadata": {},
   "source": [
    "La fórmula 'PPG ~ EFFPG + APG' dentro de smf.ols() especifica que estamos prediciendo PPG en función de EFFPG y APG."
   ]
  },
  {
   "cell_type": "markdown",
   "metadata": {},
   "source": [
    "Siguiendo con los mismo podemos ver q nuestra R² estimada es alta, por lo que el modelo es verificable."
   ]
  },
  {
   "cell_type": "markdown",
   "metadata": {},
   "source": [
    "El modelo obtenido permite realizar algunas gráficas más que nos permitirán validar el modelo:"
   ]
  },
  {
   "cell_type": "code",
   "execution_count": null,
   "metadata": {},
   "outputs": [
    {
     "data": {
      "image/png": "[encoded data removed]",
      "text/plain": [
       "<Figure size 640x480 with 4 Axes>"
      ]
     },
     "execution_count": 76,
     "metadata": {},
     "output_type": "execute_result"
    },
    {
     "data": {
      "image/png": "[encoded data removed]",
      "text/plain": [
       "<Figure size 640x480 with 4 Axes>"
      ]
     },
     "metadata": {},
     "output_type": "display_data"
    }
   ],
   "source": [
    "sm.graphics.plot_regress_exog(mco1, 'EFFPG')"
   ]
  },
  {
   "cell_type": "code",
   "execution_count": null,
   "metadata": {},
   "outputs": [
    {
     "data": {
      "image/png": "[encoded data removed]",
      "text/plain": [
       "<Figure size 640x480 with 4 Axes>"
      ]
     },
     "execution_count": 77,
     "metadata": {},
     "output_type": "execute_result"
    },
    {
     "data": {
      "image/png": "[encoded data removed]",
      "text/plain": [
       "<Figure size 640x480 with 4 Axes>"
      ]
     },
     "metadata": {},
     "output_type": "display_data"
    }
   ],
   "source": [
    "sm.graphics.plot_regress_exog(mco1, 'APG')"
   ]
  },
  {
   "cell_type": "markdown",
   "metadata": {},
   "source": [
    "Del modelo se pueden extraer otras medidas como:\n",
    "\n",
    "- Valores predichos  𝑦̂ \n",
    " \n",
    "- Residuos"
   ]
  },
  {
   "cell_type": "code",
   "execution_count": null,
   "metadata": {},
   "outputs": [
    {
     "name": "stdout",
     "output_type": "stream",
     "text": [
      "0    -1.154541\n",
      "1    -1.770917\n",
      "2     3.058129\n",
      "3     1.086584\n",
      "4    -0.667726\n",
      "5    -2.215083\n",
      "6     2.359644\n",
      "7    -1.616602\n",
      "8    -2.538151\n",
      "9     0.339347\n",
      "10   -2.711198\n",
      "11    2.448643\n",
      "12   -1.960987\n",
      "13    3.279172\n",
      "14    0.791881\n",
      "15   -1.417749\n",
      "16    0.608484\n",
      "17   -4.506891\n",
      "18    1.436569\n",
      "19   -0.734095\n",
      "20    0.927498\n",
      "21    5.700369\n",
      "22    1.197590\n",
      "23   -2.324390\n",
      "24    3.126828\n",
      "25    1.704664\n",
      "26   -2.354471\n",
      "27   -1.364920\n",
      "28    1.587215\n",
      "29    1.031234\n",
      "30   -4.202409\n",
      "31    0.856277\n",
      "dtype: float64\n"
     ]
    },
    {
     "data": {
      "text/plain": [
       "6.972200594645983e-14"
      ]
     },
     "execution_count": 78,
     "metadata": {},
     "output_type": "execute_result"
    }
   ],
   "source": [
    "#yhat=mco1.fittedvalues\n",
    "e=mco1.resid\n",
    "print(e)\n",
    "np.mean(e)"
   ]
  },
  {
   "cell_type": "markdown",
   "metadata": {},
   "source": [
    "Los valores que proporcionaste representan los residuos en estadística. Los residuos son las diferencias entre los valores observados y los valores predichos por un modelo estadístico. Aquí hay una interpretación de los residuos basada en los valores que has mostrado:\n",
    "\n",
    "Los residuos son las diferencias entre los valores observados y los valores predichos por un modelo estadístico. Los residuos indican cómo de bien se ajusta el modelo a los datos. Si los residuos son pequeños y se distribuyen aleatoriamente alrededor de cero, indica que el modelo se ajusta bien a los datos.\n",
    "\n",
    "Cada número de la lista representa el residuo correspondiente a una observación en un modelo estadístico. Por ejemplo:\n",
    "\n",
    "- Los valores positivos indican que el valor observado es mayor que el valor predicho por el modelo para esa observación.\n",
    "- Los valores negativos indican que el valor observado es menor que el valor predicho por el modelo para esa observación.\n",
    "- Los residuos cercanos a cero indican que el modelo predice razonablemente bien los valores observados.\n",
    "\n",
    "Además, el valor al final -3.197442310920451e-14 parece ser muy cercano a cero en notación científica, lo cual podría indicar la suma o el promedio de los residuos, y su proximidad a cero sugiere que, en general, los residuos se compensan o se cancelan entre sí, lo que podría indicar un buen ajuste del modelo estadístico a los datos."
   ]
  },
  {
   "cell_type": "markdown",
   "metadata": {},
   "source": [
    "* ANOVA"
   ]
  },
  {
   "cell_type": "code",
   "execution_count": null,
   "metadata": {},
   "outputs": [
    {
     "name": "stdout",
     "output_type": "stream",
     "text": [
      "            df       sum_sq      mean_sq           F        PR(>F)\n",
      "EFFPG      1.0  2047.777086  2047.777086  346.843518  1.123153e-17\n",
      "APG        1.0    31.445518    31.445518    5.326104  2.833916e-02\n",
      "Residual  29.0   171.217083     5.904037         NaN           NaN\n"
     ]
    }
   ],
   "source": [
    "table = sm.stats.anova_lm(mco1, typ=1)\n",
    "print(table)\n"
   ]
  },
  {
   "cell_type": "markdown",
   "metadata": {},
   "source": [
    "Esta tabla ANOVA (Análisis de Varianza) proporciona información sobre la significancia estadística de las variables predictoras (en tu caso, 'APG' y 'EFFPG') en relación con la variable de respuesta o variable dependiente en un modelo de regresión.\n",
    "\n",
    "Cada fila de la tabla representa una fuente de variación:\n",
    "\n",
    "APG y EFFPG: Estas son las variables independientes o predictores en nuestro modelo de regresión. Cada fila muestra estadísticas relacionadas con la influencia y significancia de cada una de estas variables en la variable de respuesta.\n",
    "\n",
    "- df (Grados de libertad): Representa los grados de libertad asociados con cada fuente de variación. Los grados de libertad indican la cantidad de información disponible para estimar los parámetros.\n",
    "\n",
    "- sum_sq (Suma de cuadrados): Esta columna muestra la suma de los cuadrados de las desviaciones o variaciones explicadas por cada variable independiente en el modelo de regresión.\n",
    "\n",
    "- mean_sq (Media de cuadrados): Es la suma de cuadrados dividida por sus grados de libertad correspondientes. Indica cuánta variación media está asociada con cada una de las variables predictoras.\n",
    "\n",
    "- F (Estadístico F): Es la relación entre la variación explicada por la variable independiente y la variación no explicada (residual). Es una medida de la significancia relativa de cada variable predictora en el modelo.\n",
    "\n",
    "- PR(>F) (p Valor): Es la probabilidad asociada con el estadístico F. Indica la significancia estadística de cada variable predictora. En este contexto, valores de p bajos (generalmente inferiores a un umbral como 0.05) sugieren que la variable es estadísticamente significativa en el modelo.\n",
    "\n",
    "- Residual: Esta fila representa la variación no explicada por las variables independientes en el modelo (residuos). La fila \"Residual\" proporciona información sobre la variabilidad que el modelo no puede explicar.\n",
    "\n",
    "En nuestra tabla ANOVA, para las variables 'APG' y 'EFFPG', los valores de 'F' son altos y los valores de 'PR(>F)' son extremadamente bajos (cercanos a cero), lo que sugiere que ambas variables tienen una fuerte influencia estadísticamente significativa en la variable de respuesta en nuestro modelo de regresión. Esto implica que estas variables son importantes para explicar la variabilidad en la variable dependiente."
   ]
  },
  {
   "cell_type": "markdown",
   "metadata": {},
   "source": [
    "* Suma de Cuadrados Totales (SCT)"
   ]
  },
  {
   "cell_type": "code",
   "execution_count": null,
   "metadata": {},
   "outputs": [
    {
     "data": {
      "text/plain": [
       "2250.4396874999993"
      ]
     },
     "execution_count": 80,
     "metadata": {},
     "output_type": "execute_result"
    }
   ],
   "source": [
    "mco1.centered_tss"
   ]
  },
  {
   "cell_type": "markdown",
   "metadata": {},
   "source": [
    "La SCT es una medida fundamental en estadística que se utiliza para comprender la variabilidad total de una variable en relación con su media, y es crucial para calcular métricas como el coeficiente de determinación (R-cuadrado) en el contexto de modelos estadísticos, particularmente en modelos de regresión."
   ]
  },
  {
   "cell_type": "markdown",
   "metadata": {},
   "source": [
    "- Suma de Cuadrados Explicada (SCE)"
   ]
  },
  {
   "cell_type": "code",
   "execution_count": null,
   "metadata": {},
   "outputs": [
    {
     "data": {
      "text/plain": [
       "2079.2226043386077"
      ]
     },
     "execution_count": 81,
     "metadata": {},
     "output_type": "execute_result"
    }
   ],
   "source": [
    "mco1.ess"
   ]
  },
  {
   "cell_type": "markdown",
   "metadata": {},
   "source": [
    "Indica la suma de los cuadrados de las diferencias entre los valores predichos por el modelo y la media de la variable de respuesta."
   ]
  },
  {
   "cell_type": "markdown",
   "metadata": {},
   "source": [
    "* Suma de Cuadrados de los residuos (SCR)"
   ]
  },
  {
   "cell_type": "code",
   "execution_count": null,
   "metadata": {},
   "outputs": [
    {
     "data": {
      "text/plain": [
       "171.21708316139166"
      ]
     },
     "execution_count": 82,
     "metadata": {},
     "output_type": "execute_result"
    }
   ],
   "source": [
    "mco1.ssr"
   ]
  },
  {
   "cell_type": "markdown",
   "metadata": {},
   "source": [
    " Indica la suma de los cuadrados de las diferencias entre los valores observados y los valores predichos por el modelo."
   ]
  },
  {
   "cell_type": "markdown",
   "metadata": {},
   "source": [
    "* $R^2$ y $R^2$-ajustado"
   ]
  },
  {
   "cell_type": "code",
   "execution_count": null,
   "metadata": {},
   "outputs": [
    {
     "name": "stdout",
     "output_type": "stream",
     "text": [
      "R2:  0.9239183862102984\n",
      "R2 Ajustado:  0.9186713783627328\n"
     ]
    }
   ],
   "source": [
    "print(\"R2: \", mco1.rsquared)\n",
    "print(\"R2 Ajustado: \", mco1.rsquared_adj)"
   ]
  },
  {
   "cell_type": "markdown",
   "metadata": {},
   "source": [
    "$R^2$: Es una medida de cuánta variabilidad en la variable dependiente (variable de respuesta) es explicada por el modelo de regresión. Representa la proporción de la variabilidad total de la variable dependiente que es explicada por las variables independientes incluidas en el modelo. Toma valores entre 0 y 1, donde 1 indica un ajuste perfecto y 0 indica que el modelo no explica ninguna variabilidad. En tu caso, el valor proporcionado de 0.9448756331667618 indica que alrededor del 92.39% de la variabilidad en la variable dependiente es explicada por las variables independientes en tu modelo de regresión.\n",
    "\n",
    "$R^2$-ajustado: Es similar a $R^2$ , pero ajustado en función del número de predictores en el modelo y el tamaño de la muestra. Mientras que tiende a aumentar incluso cuando se agregan predictores irrelevantes al modelo, ajustado penaliza este efecto al tener en cuenta el número de predictores. Un valor alto de ajustado indica un buen ajuste del modelo a los datos. En nuestro caso, el valor proporcionado de 0.9186713783627327 sugiere que alrededor del 94.11% de la variabilidad en la variable dependiente es explicada por las variables independientes, teniendo en cuenta el número de predictores y el tamaño de la muestra."
   ]
  },
  {
   "cell_type": "markdown",
   "metadata": {},
   "source": [
    "* Valor $F_{exp}$ y de $F_{teo}$"
   ]
  },
  {
   "cell_type": "code",
   "execution_count": null,
   "metadata": {},
   "outputs": [
    {
     "name": "stdout",
     "output_type": "stream",
     "text": [
      "0.025 176.08481120129346 4.200572325250983\n",
      "0.1 176.08481120129346 2.4954833142354644\n"
     ]
    }
   ],
   "source": [
    "Fexp=mco1.fvalue\n",
    "from scipy import stats\n",
    "alpha=0.025\n",
    "Fteo= stats.f.ppf(1-alpha, mco1.df_model, mco1.df_resid)\n",
    "print(alpha, Fexp, Fteo)\n",
    "alpha=0.10\n",
    "Fteo= stats.f.ppf(1-alpha, mco1.df_model, mco1.df_resid)\n",
    "print(alpha, Fexp, Fteo)"
   ]
  },
  {
   "cell_type": "markdown",
   "metadata": {},
   "source": [
    "Los valores $F_{exp}$ y $F_{teo}$ están siendo utilizados en pruebas de hipótesis en un análisis de regresión.\n",
    "\n",
    "- $F_{exp}$ (Valor \\( F \\) experimental): Es el valor calculado a partir de tu modelo de regresión. En el primer caso, el valor  -$F_{exp}$ es `176.0848112012933` cuando el nivel de significancia es (alpha = 0.025 ) y `176.0848112012933` cuando (alpha = 0.1 ).\n",
    "\n",
    "- $F_{teo}$ (Valor \\( F \\) teórico): Es el valor crítico de la distribución \\( F \\) que corresponde a un nivel de significancia dado ( alpha ) y los grados de libertad del modelo y los residuos (error). En el primer caso, para \\( \\alpha = 0.025 \\), el valor de $F_{teo}$ es `4.200572325250983` y para ( alpha = 0.1 ) es `2.4954833142354644`.\n",
    "\n",
    "En pruebas de hipótesis en regresión, se comparan los valores $F_{exp}$ y $F_{teo}$ para determinar si la varianza explicada por el modelo es significativamente mayor que la varianza no explicada. Esto se hace a través de la prueba \\( F \\), donde se contrasta si el valor $F_{exp}$ supera el valor crítico $F_{teo}$ para un nivel de significancia dado (alpha).\n",
    "\n",
    "Si el valor $F_{exp}$ es mayor que $F_{teo}$ para un nivel de significancia elegido (\\( alpha \\)), se suele rechazar la hipótesis nula. En tus resultados, en ambos casos $F_{exp}$ es mucho mayor que $F_{teo}$ ya sea para \\( alpha = 0.025 \\) o \\(alpha = 0.1), lo que sugiere que hay al menos una variable independiente que tiene un efecto significativo sobre la variable dependiente en el modelo de regresión."
   ]
  },
  {
   "cell_type": "code",
   "execution_count": null,
   "metadata": {},
   "outputs": [
    {
     "name": "stdout",
     "output_type": "stream",
     "text": [
      "                            OLS Regression Results                            \n",
      "==============================================================================\n",
      "Dep. Variable:                    PPG   R-squared:                       0.924\n",
      "Model:                            OLS   Adj. R-squared:                  0.919\n",
      "Method:                 Least Squares   F-statistic:                     176.1\n",
      "Date:                Sun, 03 Dec 2023   Prob (F-statistic):           6.01e-17\n",
      "Time:                        12:34:56   Log-Likelihood:                -72.241\n",
      "No. Observations:                  32   AIC:                             150.5\n",
      "Df Residuals:                      29   BIC:                             154.9\n",
      "Df Model:                           2                                         \n",
      "Covariance Type:            nonrobust                                         \n",
      "==============================================================================\n",
      "                 coef    std err          t      P>|t|      [0.025      0.975]\n",
      "------------------------------------------------------------------------------\n",
      "Intercept     37.3335      3.197     11.677      0.000      30.794      43.873\n",
      "EFFPG          0.6154      0.045     13.769      0.000       0.524       0.707\n",
      "APG           -0.5517      0.239     -2.308      0.028      -1.041      -0.063\n",
      "==============================================================================\n",
      "Omnibus:                        0.192   Durbin-Watson:                   2.410\n",
      "Prob(Omnibus):                  0.909   Jarque-Bera (JB):                0.333\n",
      "Skew:                           0.157   Prob(JB):                        0.847\n",
      "Kurtosis:                       2.611   Cond. No.                         718.\n",
      "==============================================================================\n",
      "\n",
      "Notes:\n",
      "[1] Standard Errors assume that the covariance matrix of the errors is correctly specified.\n"
     ]
    }
   ],
   "source": [
    "print(mco1.summary())"
   ]
  },
  {
   "cell_type": "markdown",
   "metadata": {},
   "source": [
    "* Valores $t_{exp}$ y $t_{teo}$"
   ]
  },
  {
   "cell_type": "code",
   "execution_count": null,
   "metadata": {},
   "outputs": [
    {
     "name": "stdout",
     "output_type": "stream",
     "text": [
      "texp:  Intercept    11.676725\n",
      "EFFPG        13.769229\n",
      "APG          -2.307835\n",
      "dtype: float64\n",
      "2.045229642132703\n",
      "0.05\n",
      "2.045229642132703\n",
      "0.1\n",
      "1.6991270265334972\n"
     ]
    }
   ],
   "source": [
    "texp=mco1.tvalues\n",
    "print(\"texp: \", texp)\n",
    "alpha=0.05\n",
    "tteo= stats.t.ppf(1-(alpha/2),mco1.df_resid)\n",
    "print(tteo)\n",
    "print(alpha)\n",
    "print(tteo)\n",
    "alpha=0.10\n",
    "tteo= stats.t.ppf(1-(alpha/2),mco1.df_resid)\n",
    "print(alpha)\n",
    "print(tteo)"
   ]
  },
  {
   "cell_type": "markdown",
   "metadata": {},
   "source": [
    "Los valores $t_{exp}$ y $t_{teo}$ están relacionados con la prueba de hipótesis para los coeficientes de regresión en un modelo. Estos valores se usan para determinar la significancia individual de cada coeficiente en el modelo de regresión.\n",
    "\n",
    "- $t_{exp}$ (Valor \\( t \\) experimental): Estos son los valores calculados de la estadística \\( t \\) para cada uno de los coeficientes en el modelo de regresión. En nuestro caso, los valores $t_{exp}$ son `11.676725` para el intercepto, `-2.307835` para 'APG' y `13.769229` para 'EFFPG'.\n",
    "\n",
    "- $t_{teo}$ (Valor \\( t \\) teórico): Es el valor crítico de la distribución \\( t \\) que corresponde a un nivel de significancia dado (\\( alpha \\)) y los grados de libertad de los residuos (error). Se utiliza en pruebas de hipótesis para determinar si los coeficientes son significativamente diferentes de cero. En nuestro caso, se han calculado dos valores de $t_{teo}$: `2.045229642132703` para \\( alpha = 0.05 \\) y `1.6991270265334972` para \\( alpha = 0.1 \\).\n",
    "\n",
    "En pruebas de hipótesis individuales para cada coeficiente, se compara el valor $t_{exp}$ (valor experimental) con $t_{teo}$ (valor teórico). Si $t_{exp}$ es mayor que $t_{teo}$ para un nivel de significancia dado, se suele rechazar la hipótesis nula, lo que sugiere que el coeficiente correspondiente es significativo en el modelo.\n",
    "\n",
    "En tu caso, parece que los coeficientes del modelo ('Intercept', 'APG', 'EFFPG') tienen valores $t_{exp}$ mayores que $t_{teo}$ tanto para \\( alpha = 0.05 \\) como para \\( alpha = 0.1 \\), lo que indica que los coeficientes son significativos a esos niveles de significancia."
   ]
  },
  {
   "cell_type": "markdown",
   "metadata": {},
   "source": [
    "* Intervalos de confianza de Estimadores"
   ]
  },
  {
   "cell_type": "code",
   "execution_count": null,
   "metadata": {},
   "outputs": [
    {
     "data": {
      "text/html": [
       "<div>\n",
       "<style scoped>\n",
       "    .dataframe tbody tr th:only-of-type {\n",
       "        vertical-align: middle;\n",
       "    }\n",
       "\n",
       "    .dataframe tbody tr th {\n",
       "        vertical-align: top;\n",
       "    }\n",
       "\n",
       "    .dataframe thead th {\n",
       "        text-align: right;\n",
       "    }\n",
       "</style>\n",
       "<table border=\"1\" class=\"dataframe\">\n",
       "  <thead>\n",
       "    <tr style=\"text-align: right;\">\n",
       "      <th></th>\n",
       "      <th>0</th>\n",
       "      <th>1</th>\n",
       "    </tr>\n",
       "  </thead>\n",
       "  <tbody>\n",
       "    <tr>\n",
       "      <th>Intercept</th>\n",
       "      <td>31.428738</td>\n",
       "      <td>43.238299</td>\n",
       "    </tr>\n",
       "    <tr>\n",
       "      <th>EFFPG</th>\n",
       "      <td>0.532870</td>\n",
       "      <td>0.697957</td>\n",
       "    </tr>\n",
       "    <tr>\n",
       "      <th>APG</th>\n",
       "      <td>-0.993172</td>\n",
       "      <td>-0.110204</td>\n",
       "    </tr>\n",
       "  </tbody>\n",
       "</table>\n",
       "</div>"
      ],
      "text/plain": [
       "                   0          1\n",
       "Intercept  31.428738  43.238299\n",
       "EFFPG       0.532870   0.697957\n",
       "APG        -0.993172  -0.110204"
      ]
     },
     "execution_count": 87,
     "metadata": {},
     "output_type": "execute_result"
    }
   ],
   "source": [
    "mco1.conf_int(0.075)"
   ]
  },
  {
   "cell_type": "code",
   "execution_count": null,
   "metadata": {},
   "outputs": [
    {
     "name": "stdout",
     "output_type": "stream",
     "text": [
      "Nuestras variables exógenas son las siguientes (Intercept son las constantes a 1): \n",
      "['Intercept', 'EFFPG', 'APG']\n"
     ]
    }
   ],
   "source": [
    "print(\"Nuestras variables exógenas son las siguientes (Intercept son las constantes a 1): \")\n",
    "print(mco1.model.exog_names)"
   ]
  },
  {
   "cell_type": "markdown",
   "metadata": {},
   "source": [
    "- APG: El coeficiente estimado para la variable 'APG' está entre aproximadamente -0.9932 y -0.1102 con un nivel de confianza del 92.5%. Esto sugiere que se espera que el verdadero valor del coeficiente para 'APG' esté en este rango con un 92.5% de confianza.\n",
    "\n",
    "- EFFPG: El coeficiente estimado para la variable 'EFFPG' está entre aproximadamente 0.5329 y 0.6980 con un nivel de confianza del 92.5%. Esto indica que se espera que el verdadero valor del coeficiente para 'EFFPG' esté en este intervalo con un 92.5% de confianza.\n",
    "\n",
    "Estos intervalos de confianza te proporcionan información sobre la precisión de las estimaciones de los coeficientes de regresión. Cuanto más estrecho sea el intervalo, mayor será la precisión de la estimación del coeficiente. Los intervalos más amplios indican una mayor incertidumbre en la estimación del valor verdadero del coeficiente."
   ]
  },
  {
   "cell_type": "markdown",
   "metadata": {},
   "source": [
    "* Estimación de la varianza de la pertrubación:"
   ]
  },
  {
   "cell_type": "code",
   "execution_count": null,
   "metadata": {},
   "outputs": [
    {
     "name": "stdout",
     "output_type": "stream",
     "text": [
      "5.904037350392816\n"
     ]
    }
   ],
   "source": [
    "import numpy as np\n",
    "\n",
    "# Suponiendo que 'mco1' contiene el resultado del modelo de regresión lineal\n",
    "# Suponiendo que 'X' son las variables independientes y 'y' es la variable dependiente\n",
    "\n",
    "# Obtener los residuos del modelo de regresión y la cantidad de observaciones\n",
    "residuos = mco1.resid\n",
    "nobs = mco1.nobs\n",
    "\n",
    "# Calcular sigma gorro (varianza residual ajustada)\n",
    "# Se supone que 'X' contiene las variables independientes\n",
    "X=data[['EFFPG', 'APG']] \n",
    "\n",
    "# Calcular sigma gorro\n",
    "num_coeficientes = X.shape[1] + 1  # Número de coeficientes (incluyendo el intercepto)\n",
    "sigmagorro = np.dot(residuos, residuos) / (nobs - num_coeficientes)\n",
    "\n",
    "print(sigmagorro)\n"
   ]
  },
  {
   "cell_type": "markdown",
   "metadata": {},
   "source": [
    "\n",
    "El valor 5.904037350392821 que se ha obtenido es la varianza residual ajustada en el contexto de un modelo de regresión. Esta medida representa la variabilidad de los errores residuales, es decir, la diferencia entre los valores observados y los valores predichos por el modelo de regresión.\n",
    "\n",
    "- Una varianza residual ajustada más alta indica que los errores residuales, es decir, las discrepancias entre los valores observados y los predichos por el modelo, son mayores. En otras palabras, los datos reales se desvían más de la línea de regresión ajustada por el modelo. Esto puede indicar que el modelo tiene dificultades para ajustarse adecuadamente a los datos o que existe una mayor variabilidad no explicada por el modelo.\n",
    "\n",
    "- Una varianza residual ajustada más baja indica que los errores residuales son menores. En este caso, los valores observados tienden a estar más cerca de la línea de regresión ajustada, lo que sugiere que el modelo puede explicar mejor la variabilidad de los datos y tiene una mejor capacidad predictiva."
   ]
  },
  {
   "cell_type": "code",
   "execution_count": null,
   "metadata": {},
   "outputs": [
    {
     "name": "stdout",
     "output_type": "stream",
     "text": [
      "Nuestras variables exógenas son las siguientes (Intercept son las constantes a 1): \n",
      "['Intercept', 'EFFPG', 'APG']\n"
     ]
    }
   ],
   "source": [
    "print(\"Nuestras variables exógenas son las siguientes (Intercept son las constantes a 1): \")\n",
    "print(mco1.model.exog_names)"
   ]
  },
  {
   "cell_type": "markdown",
   "metadata": {},
   "source": [
    "* Predicciones:"
   ]
  },
  {
   "cell_type": "code",
   "execution_count": null,
   "metadata": {},
   "outputs": [
    {
     "data": {
      "image/png": "[encoded data removed]",
      "text/plain": [
       "<Figure size 640x480 with 1 Axes>"
      ]
     },
     "metadata": {},
     "output_type": "display_data"
    }
   ],
   "source": [
    "histograma=plt.hist(data[\"PPG\"], bins='auto', rwidth=0.85)"
   ]
  },
  {
   "cell_type": "code",
   "execution_count": null,
   "metadata": {
    "scrolled": true
   },
   "outputs": [
    {
     "name": "stdout",
     "output_type": "stream",
     "text": [
      "0    82.005587\n",
      "dtype: float64\n"
     ]
    }
   ],
   "source": [
    "#x0=[5.5, 10000]\n",
    "#X0=sm.add_constant(x0)\n",
    "#mco1.predict(X0)\n",
    "\n",
    "import pandas as pd\n",
    "\n",
    "x0 = [[95, 25]]  # Lista de dos valores\n",
    "X0 = pd.DataFrame(x0, columns=['EFFPG', 'APG'])\n",
    "X0 = sm.add_constant(X0)  # Si se requiere una constante\n",
    "\n",
    "predicciones = mco1.predict(X0)\n",
    "print(predicciones)\n"
   ]
  },
  {
   "cell_type": "markdown",
   "metadata": {},
   "source": [
    "Los datos obtenidos representan las predicciones del modelo para los valores proporcionados de las variables independientes ('APG' y 'EFFPG'). En este caso particular, se ha proporcionado un conjunto de valores para estas dos variables:\n",
    "\n",
    "- Para 'APG', el valor proporcionado es 25.\n",
    "- Para 'EFFPG', el valor proporcionado es 95.\n",
    "\n",
    "Cuando se insertan estos valores en el modelo de regresión lineal (mco1), el modelo calcula las predicciones para la variable dependiente ('PPG' en este caso) utilizando la ecuación del modelo.\n",
    "\n",
    "El resultado que obtuviste ('82.005587') es la predicción del valor de la variable dependiente ('PPG') basada en el modelo de regresión lineal, utilizando los valores proporcionados para 'APG' y 'EFFPG'. Este valor es el resultado estimado o predicho para la variable dependiente dadas esas condiciones específicas de las variables independientes."
   ]
  },
  {
   "cell_type": "code",
   "execution_count": null,
   "metadata": {},
   "outputs": [
    {
     "data": {
      "text/html": [
       "<div>\n",
       "<style scoped>\n",
       "    .dataframe tbody tr th:only-of-type {\n",
       "        vertical-align: middle;\n",
       "    }\n",
       "\n",
       "    .dataframe tbody tr th {\n",
       "        vertical-align: top;\n",
       "    }\n",
       "\n",
       "    .dataframe thead th {\n",
       "        text-align: right;\n",
       "    }\n",
       "</style>\n",
       "<table border=\"1\" class=\"dataframe\">\n",
       "  <thead>\n",
       "    <tr style=\"text-align: right;\">\n",
       "      <th></th>\n",
       "      <th>mean</th>\n",
       "      <th>mean_se</th>\n",
       "      <th>mean_ci_lower</th>\n",
       "      <th>mean_ci_upper</th>\n",
       "      <th>obs_ci_lower</th>\n",
       "      <th>obs_ci_upper</th>\n",
       "    </tr>\n",
       "  </thead>\n",
       "  <tbody>\n",
       "    <tr>\n",
       "      <th>0</th>\n",
       "      <td>82.005587</td>\n",
       "      <td>1.126983</td>\n",
       "      <td>79.700648</td>\n",
       "      <td>84.310526</td>\n",
       "      <td>76.527529</td>\n",
       "      <td>87.483645</td>\n",
       "    </tr>\n",
       "  </tbody>\n",
       "</table>\n",
       "</div>"
      ],
      "text/plain": [
       "        mean   mean_se  mean_ci_lower  mean_ci_upper  obs_ci_lower  \\\n",
       "0  82.005587  1.126983      79.700648      84.310526     76.527529   \n",
       "\n",
       "   obs_ci_upper  \n",
       "0     87.483645  "
      ]
     },
     "execution_count": 93,
     "metadata": {},
     "output_type": "execute_result"
    }
   ],
   "source": [
    "predictions = mco1.get_prediction(X0)\n",
    "predictions.summary_frame(alpha=0.05)"
   ]
  },
  {
   "cell_type": "code",
   "execution_count": null,
   "metadata": {},
   "outputs": [
    {
     "name": "stdout",
     "output_type": "stream",
     "text": [
      "Nuestras variables exógenas son las siguientes (Intercept son las constantes a 1): \n",
      "['Intercept', 'EFFPG', 'APG']\n"
     ]
    }
   ],
   "source": [
    "print(\"Nuestras variables exógenas son las siguientes (Intercept son las constantes a 1): \")\n",
    "print(mco1.model.exog_names)"
   ]
  },
  {
   "cell_type": "markdown",
   "metadata": {},
   "source": [
    "Los resultados proporcionados después de ejecutar predictions.summary_frame(alpha=0.05) son estadísticas relevantes derivadas de la predicción basada en un modelo de regresión ajustado. Aquí está el significado de los valores generados:\n",
    "\n",
    "- mean: Es el valor medio o promedio de las predicciones para los datos de entrada proporcionados (X0 en este caso). Este valor representa la estimación puntual de la variable dependiente.\n",
    "\n",
    "- mean_se: Es el error estándar asociado al valor medio de las predicciones. Indica la precisión de la media de las predicciones.\n",
    "\n",
    "- mean_ci_lower y mean_ci_upper: Representan los límites inferior y superior, respectivamente, del intervalo de confianza del 95% para la media de las predicciones. Esto significa que hay un 95% de probabilidad de que el valor real de la variable dependiente esté dentro de este intervalo.\n",
    "\n",
    "- obs_ci_lower y obs_ci_upper: Son los límites inferior y superior del intervalo de confianza del 95% para cada observación individual en los datos de entrada X0. Estos intervalos reflejan la incertidumbre alrededor de cada predicción individual.\n",
    "\n",
    "En resumen, estos valores proporcionan información sobre las predicciones promedio y sus intervalos de confianza, así como los intervalos de confianza para cada predicción individual generada por el modelo de regresión"
   ]
  },
  {
   "cell_type": "markdown",
   "metadata": {},
   "source": [
    "## Práctica 2: Estimación e Inferencia en Modelos de Regresión Lineales"
   ]
  },
  {
   "cell_type": "code",
   "execution_count": null,
   "metadata": {},
   "outputs": [
    {
     "name": "stdout",
     "output_type": "stream",
     "text": [
      "Requirement already satisfied: wooldridge in c:\\users\\merch\\anaconda3\\lib\\site-packages (0.4.4)\n",
      "Requirement already satisfied: pandas in c:\\users\\merch\\anaconda3\\lib\\site-packages (from wooldridge) (1.5.3)\n",
      "Requirement already satisfied: python-dateutil>=2.8.1 in c:\\users\\merch\\anaconda3\\lib\\site-packages (from pandas->wooldridge) (2.8.2)\n",
      "Requirement already satisfied: pytz>=2020.1 in c:\\users\\merch\\anaconda3\\lib\\site-packages (from pandas->wooldridge) (2022.7)\n",
      "Requirement already satisfied: numpy>=1.21.0 in c:\\users\\merch\\anaconda3\\lib\\site-packages (from pandas->wooldridge) (1.24.3)\n",
      "Requirement already satisfied: six>=1.5 in c:\\users\\merch\\anaconda3\\lib\\site-packages (from python-dateutil>=2.8.1->pandas->wooldridge) (1.16.0)\n"
     ]
    }
   ],
   "source": [
    "import numpy as np\n",
    "import statsmodels.api as sm\n",
    "import statsmodels.formula.api as smf\n",
    "import matplotlib.pylab as plt\n",
    "!pip install wooldridge\n",
    "from wooldridge import *"
   ]
  },
  {
   "cell_type": "code",
   "execution_count": null,
   "metadata": {},
   "outputs": [
    {
     "name": "stdout",
     "output_type": "stream",
     "text": [
      "Nuestras variables exógenas son las siguientes (Intercept son las constantes a 1): \n",
      "['Intercept', 'EFFPG', 'APG']\n"
     ]
    }
   ],
   "source": [
    "print(\"Nuestras variables exógenas son las siguientes (Intercept son las constantes a 1): \")\n",
    "print(mco1.model.exog_names)"
   ]
  },
  {
   "cell_type": "code",
   "execution_count": null,
   "metadata": {},
   "outputs": [
    {
     "name": "stdout",
     "output_type": "stream",
     "text": [
      "[1.22068253] [3.38950039]\n"
     ]
    },
    {
     "data": {
      "text/html": [
       "<div>\n",
       "<style scoped>\n",
       "    .dataframe tbody tr th:only-of-type {\n",
       "        vertical-align: middle;\n",
       "    }\n",
       "\n",
       "    .dataframe tbody tr th {\n",
       "        vertical-align: top;\n",
       "    }\n",
       "\n",
       "    .dataframe thead th {\n",
       "        text-align: right;\n",
       "    }\n",
       "</style>\n",
       "<table border=\"1\" class=\"dataframe\">\n",
       "  <thead>\n",
       "    <tr style=\"text-align: right;\">\n",
       "      <th></th>\n",
       "      <th>mean</th>\n",
       "      <th>mean_se</th>\n",
       "      <th>mean_ci_lower</th>\n",
       "      <th>mean_ci_upper</th>\n",
       "      <th>obs_ci_lower</th>\n",
       "      <th>obs_ci_upper</th>\n",
       "    </tr>\n",
       "  </thead>\n",
       "  <tbody>\n",
       "    <tr>\n",
       "      <th>0</th>\n",
       "      <td>1.220683</td>\n",
       "      <td>19.187293</td>\n",
       "      <td>-38.021738</td>\n",
       "      <td>40.463103</td>\n",
       "      <td>-38.33515</td>\n",
       "      <td>40.776516</td>\n",
       "    </tr>\n",
       "  </tbody>\n",
       "</table>\n",
       "</div>"
      ],
      "text/plain": [
       "       mean    mean_se  mean_ci_lower  mean_ci_upper  obs_ci_lower  \\\n",
       "0  1.220683  19.187293     -38.021738      40.463103     -38.33515   \n",
       "\n",
       "   obs_ci_upper  \n",
       "0     40.776516  "
      ]
     },
     "execution_count": 97,
     "metadata": {},
     "output_type": "execute_result"
    }
   ],
   "source": [
    "\n",
    "mco1 = sm.OLS(y, sm.add_constant(X)).fit()\n",
    "mco1.summary()\n",
    "\n",
    "x0=[1, 22, 90]\n",
    "y0=mco1.predict(exog=x0)\n",
    "\n",
    "print(y0, np.exp(y0))\n",
    "\n",
    "predictions = mco1.get_prediction(x0)\n",
    "predictions.summary_frame(alpha=0.05)\n",
    "\n",
    "#np.exp(predictions.summary_frame(alpha=0.05).mean_ci_lower), np.exp(predictions.summary_frame(alpha=0.05).mean_ci_upper)"
   ]
  },
  {
   "cell_type": "code",
   "execution_count": null,
   "metadata": {
    "scrolled": true
   },
   "outputs": [
    {
     "name": "stdout",
     "output_type": "stream",
     "text": [
      "Nuestras variables exógenas son las siguientes (Intercept son las constantes a 1): \n",
      "['const', 'EFFPG', 'APG']\n"
     ]
    }
   ],
   "source": [
    "print(\"Nuestras variables exógenas son las siguientes (Intercept son las constantes a 1): \")\n",
    "print(mco1.model.exog_names)"
   ]
  },
  {
   "cell_type": "markdown",
   "metadata": {},
   "source": [
    "# Practica 4: Detección Multicolinealidad"
   ]
  },
  {
   "cell_type": "code",
   "execution_count": null,
   "metadata": {},
   "outputs": [],
   "source": [
    "import numpy as np\n",
    "import statsmodels.api as sm\n",
    "import statsmodels.formula.api as smf\n",
    "import matplotlib.pylab as plt\n",
    "#!pip install wooldridge\n",
    "from wooldridge import *"
   ]
  },
  {
   "cell_type": "code",
   "execution_count": null,
   "metadata": {},
   "outputs": [
    {
     "data": {
      "text/plain": [
       "718.203713992572"
      ]
     },
     "execution_count": 100,
     "metadata": {},
     "output_type": "execute_result"
    }
   ],
   "source": [
    "mco1.condition_number #Número de Condición"
   ]
  },
  {
   "cell_type": "code",
   "execution_count": null,
   "metadata": {},
   "outputs": [
    {
     "name": "stdout",
     "output_type": "stream",
     "text": [
      "Nuestras variables exógenas son las siguientes (Intercept son las constantes a 1): \n",
      "['const', 'EFFPG', 'APG']\n"
     ]
    }
   ],
   "source": [
    "print(\"Nuestras variables exógenas son las siguientes (Intercept son las constantes a 1): \")\n",
    "print(mco1.model.exog_names)"
   ]
  },
  {
   "cell_type": "code",
   "execution_count": null,
   "metadata": {},
   "outputs": [
    {
     "data": {
      "text/html": [
       "<table class=\"simpletable\">\n",
       "<caption>OLS Regression Results</caption>\n",
       "<tr>\n",
       "  <th>Dep. Variable:</th>           <td>PPG</td>       <th>  R-squared:         </th> <td>   0.924</td>\n",
       "</tr>\n",
       "<tr>\n",
       "  <th>Model:</th>                   <td>OLS</td>       <th>  Adj. R-squared:    </th> <td>   0.919</td>\n",
       "</tr>\n",
       "<tr>\n",
       "  <th>Method:</th>             <td>Least Squares</td>  <th>  F-statistic:       </th> <td>   176.1</td>\n",
       "</tr>\n",
       "<tr>\n",
       "  <th>Date:</th>             <td>Sun, 03 Dec 2023</td> <th>  Prob (F-statistic):</th> <td>6.01e-17</td>\n",
       "</tr>\n",
       "<tr>\n",
       "  <th>Time:</th>                 <td>12:35:11</td>     <th>  Log-Likelihood:    </th> <td> -72.241</td>\n",
       "</tr>\n",
       "<tr>\n",
       "  <th>No. Observations:</th>      <td>    32</td>      <th>  AIC:               </th> <td>   150.5</td>\n",
       "</tr>\n",
       "<tr>\n",
       "  <th>Df Residuals:</th>          <td>    29</td>      <th>  BIC:               </th> <td>   154.9</td>\n",
       "</tr>\n",
       "<tr>\n",
       "  <th>Df Model:</th>              <td>     2</td>      <th>                     </th>     <td> </td>   \n",
       "</tr>\n",
       "<tr>\n",
       "  <th>Covariance Type:</th>      <td>nonrobust</td>    <th>                     </th>     <td> </td>   \n",
       "</tr>\n",
       "</table>\n",
       "<table class=\"simpletable\">\n",
       "<tr>\n",
       "    <td></td>       <th>coef</th>     <th>std err</th>      <th>t</th>      <th>P>|t|</th>  <th>[0.025</th>    <th>0.975]</th>  \n",
       "</tr>\n",
       "<tr>\n",
       "  <th>const</th> <td>   37.3335</td> <td>    3.197</td> <td>   11.677</td> <td> 0.000</td> <td>   30.794</td> <td>   43.873</td>\n",
       "</tr>\n",
       "<tr>\n",
       "  <th>EFFPG</th> <td>    0.6154</td> <td>    0.045</td> <td>   13.769</td> <td> 0.000</td> <td>    0.524</td> <td>    0.707</td>\n",
       "</tr>\n",
       "<tr>\n",
       "  <th>APG</th>   <td>   -0.5517</td> <td>    0.239</td> <td>   -2.308</td> <td> 0.028</td> <td>   -1.041</td> <td>   -0.063</td>\n",
       "</tr>\n",
       "</table>\n",
       "<table class=\"simpletable\">\n",
       "<tr>\n",
       "  <th>Omnibus:</th>       <td> 0.192</td> <th>  Durbin-Watson:     </th> <td>   2.410</td>\n",
       "</tr>\n",
       "<tr>\n",
       "  <th>Prob(Omnibus):</th> <td> 0.909</td> <th>  Jarque-Bera (JB):  </th> <td>   0.333</td>\n",
       "</tr>\n",
       "<tr>\n",
       "  <th>Skew:</th>          <td> 0.157</td> <th>  Prob(JB):          </th> <td>   0.847</td>\n",
       "</tr>\n",
       "<tr>\n",
       "  <th>Kurtosis:</th>      <td> 2.611</td> <th>  Cond. No.          </th> <td>    718.</td>\n",
       "</tr>\n",
       "</table><br/><br/>Notes:<br/>[1] Standard Errors assume that the covariance matrix of the errors is correctly specified."
      ],
      "text/latex": [
       "\\begin{center}\n",
       "\\begin{tabular}{lclc}\n",
       "\\toprule\n",
       "\\textbf{Dep. Variable:}    &       PPG        & \\textbf{  R-squared:         } &     0.924   \\\\\n",
       "\\textbf{Model:}            &       OLS        & \\textbf{  Adj. R-squared:    } &     0.919   \\\\\n",
       "\\textbf{Method:}           &  Least Squares   & \\textbf{  F-statistic:       } &     176.1   \\\\\n",
       "\\textbf{Date:}             & Sun, 03 Dec 2023 & \\textbf{  Prob (F-statistic):} &  6.01e-17   \\\\\n",
       "\\textbf{Time:}             &     12:35:11     & \\textbf{  Log-Likelihood:    } &   -72.241   \\\\\n",
       "\\textbf{No. Observations:} &          32      & \\textbf{  AIC:               } &     150.5   \\\\\n",
       "\\textbf{Df Residuals:}     &          29      & \\textbf{  BIC:               } &     154.9   \\\\\n",
       "\\textbf{Df Model:}         &           2      & \\textbf{                     } &             \\\\\n",
       "\\textbf{Covariance Type:}  &    nonrobust     & \\textbf{                     } &             \\\\\n",
       "\\bottomrule\n",
       "\\end{tabular}\n",
       "\\begin{tabular}{lcccccc}\n",
       "               & \\textbf{coef} & \\textbf{std err} & \\textbf{t} & \\textbf{P$> |$t$|$} & \\textbf{[0.025} & \\textbf{0.975]}  \\\\\n",
       "\\midrule\n",
       "\\textbf{const} &      37.3335  &        3.197     &    11.677  &         0.000        &       30.794    &       43.873     \\\\\n",
       "\\textbf{EFFPG} &       0.6154  &        0.045     &    13.769  &         0.000        &        0.524    &        0.707     \\\\\n",
       "\\textbf{APG}   &      -0.5517  &        0.239     &    -2.308  &         0.028        &       -1.041    &       -0.063     \\\\\n",
       "\\bottomrule\n",
       "\\end{tabular}\n",
       "\\begin{tabular}{lclc}\n",
       "\\textbf{Omnibus:}       &  0.192 & \\textbf{  Durbin-Watson:     } &    2.410  \\\\\n",
       "\\textbf{Prob(Omnibus):} &  0.909 & \\textbf{  Jarque-Bera (JB):  } &    0.333  \\\\\n",
       "\\textbf{Skew:}          &  0.157 & \\textbf{  Prob(JB):          } &    0.847  \\\\\n",
       "\\textbf{Kurtosis:}      &  2.611 & \\textbf{  Cond. No.          } &     718.  \\\\\n",
       "\\bottomrule\n",
       "\\end{tabular}\n",
       "%\\caption{OLS Regression Results}\n",
       "\\end{center}\n",
       "\n",
       "Notes: \\newline\n",
       " [1] Standard Errors assume that the covariance matrix of the errors is correctly specified."
      ],
      "text/plain": [
       "<class 'statsmodels.iolib.summary.Summary'>\n",
       "\"\"\"\n",
       "                            OLS Regression Results                            \n",
       "==============================================================================\n",
       "Dep. Variable:                    PPG   R-squared:                       0.924\n",
       "Model:                            OLS   Adj. R-squared:                  0.919\n",
       "Method:                 Least Squares   F-statistic:                     176.1\n",
       "Date:                Sun, 03 Dec 2023   Prob (F-statistic):           6.01e-17\n",
       "Time:                        12:35:11   Log-Likelihood:                -72.241\n",
       "No. Observations:                  32   AIC:                             150.5\n",
       "Df Residuals:                      29   BIC:                             154.9\n",
       "Df Model:                           2                                         \n",
       "Covariance Type:            nonrobust                                         \n",
       "==============================================================================\n",
       "                 coef    std err          t      P>|t|      [0.025      0.975]\n",
       "------------------------------------------------------------------------------\n",
       "const         37.3335      3.197     11.677      0.000      30.794      43.873\n",
       "EFFPG          0.6154      0.045     13.769      0.000       0.524       0.707\n",
       "APG           -0.5517      0.239     -2.308      0.028      -1.041      -0.063\n",
       "==============================================================================\n",
       "Omnibus:                        0.192   Durbin-Watson:                   2.410\n",
       "Prob(Omnibus):                  0.909   Jarque-Bera (JB):                0.333\n",
       "Skew:                           0.157   Prob(JB):                        0.847\n",
       "Kurtosis:                       2.611   Cond. No.                         718.\n",
       "==============================================================================\n",
       "\n",
       "Notes:\n",
       "[1] Standard Errors assume that the covariance matrix of the errors is correctly specified.\n",
       "\"\"\""
      ]
     },
     "execution_count": 102,
     "metadata": {},
     "output_type": "execute_result"
    }
   ],
   "source": [
    "import statsmodels.api as sm\n",
    "\n",
    "data = pd.read_csv ('WC2023.csv')\n",
    "\n",
    "data\n",
    "\n",
    "# Modelo Regresión:  modeldata=stock.values \n",
    "#X=data.values[:,1:4] \n",
    "X=data[['EFFPG', 'APG']] # LArge B/P, LArge ROE, Large S/P, Large Return Rate Qt, Large Market Value, Small System Risk\n",
    "y=data['PPG'] # Anual Return\n",
    "\n",
    "\n",
    "mco2 = sm.OLS(y, sm.add_constant(X)).fit()\n",
    "mco2.summary()"
   ]
  },
  {
   "cell_type": "code",
   "execution_count": null,
   "metadata": {},
   "outputs": [
    {
     "data": {
      "text/plain": [
       "718.203713992572"
      ]
     },
     "execution_count": 103,
     "metadata": {},
     "output_type": "execute_result"
    }
   ],
   "source": [
    "mco2.condition_number #Número de Condición"
   ]
  },
  {
   "cell_type": "markdown",
   "metadata": {},
   "source": [
    "El número de condición es una medida de la estabilidad numérica del cálculo de los coeficientes de regresión. Indica cuánto puede variar la estimación de los coeficientes debido a pequeñas variaciones en los datos de entrada.\n",
    "\n",
    "Si esta medida es superior a 20 se supone que el grado de multicolinealidad presente en el modelo es moderado y si es superior a 30 preocupante."
   ]
  },
  {
   "cell_type": "code",
   "execution_count": null,
   "metadata": {},
   "outputs": [
    {
     "data": {
      "text/plain": [
       "[94.31639041971357, 94.31639041971357]"
      ]
     },
     "execution_count": 104,
     "metadata": {},
     "output_type": "execute_result"
    }
   ],
   "source": [
    "import statsmodels.stats.outliers_influence as oi\n",
    "\n",
    "vifs=[oi.variance_inflation_factor(X.values, i) for i in range(X.shape[1])]\n",
    "vifs"
   ]
  },
  {
   "cell_type": "code",
   "execution_count": null,
   "metadata": {},
   "outputs": [
    {
     "name": "stdout",
     "output_type": "stream",
     "text": [
      "Nuestras variables exógenas son las siguientes (Intercept son las constantes a 1): \n",
      "['const', 'EFFPG', 'APG']\n"
     ]
    }
   ],
   "source": [
    "print(\"Nuestras variables exógenas son las siguientes (Intercept son las constantes a 1): \")\n",
    "print(mco1.model.exog_names)"
   ]
  },
  {
   "cell_type": "markdown",
   "metadata": {},
   "source": [
    "Calcula los factores de inflación de la varianza (VIF, por sus siglas en inglés) para las variables independientes en un modelo de regresión. Los VIF son una medida de multicolinealidad entre las variables independientes en un modelo de regresión.\n",
    "\n",
    "Los resultados proporcionados, [20.273610692319956, 20.273610692319956], son los valores de los VIF calculados para cada una de las variables independientes en tu modelo. Aquí hay una interpretación general de los VIF:\n",
    "\n",
    "- Un VIF mayor que 10 (algunos utilizan un umbral de 5) se considera indicativo de multicolinealidad significativa. En este caso, las variables asociadas a esos VIF altos estarían fuertemente correlacionadas con otras variables predictoras en el modelo.\n",
    "\n",
    "- Un VIF menor que 5 se considera aceptable, lo que sugiere que no hay una alta multicolinealidad."
   ]
  },
  {
   "cell_type": "code",
   "execution_count": null,
   "metadata": {},
   "outputs": [
    {
     "name": "stdout",
     "output_type": "stream",
     "text": [
      "[[1.         0.76452087]\n",
      " [0.76452087 1.        ]]\n"
     ]
    }
   ],
   "source": [
    "corr_matrix=np.corrcoef(X.T)\n",
    "print(corr_matrix)"
   ]
  },
  {
   "cell_type": "markdown",
   "metadata": {},
   "source": [
    "Calcula una matriz de correlación utilizando la función np.corrcoef de NumPy.Esta función toma una matriz de datos donde las filas representan diferentes variables y las columnas representan diferentes observaciones y calcula la matriz de correlación entre esas variables.\n",
    "\n",
    "El resultado que proporcionaste, [[1. 0.76452087], [0.76452087 1. ]], es una matriz de correlación. En este caso, parece que tienes dos variables (o características) representadas en tu matriz.\n",
    "\n",
    "- El valor 1.0 en la posición (0,0) y (1,1) de la matriz diagonal principal representa la correlación de una variable consigo misma, lo que siempre será 1 ya que es la correlación de una variable consigo misma.\n",
    "\n",
    "- Los otros valores, como 0.76452087, representan la correlación entre las diferentes variables. Por ejemplo, en la posición (0,1) y (1,0), el valor 0.76452087 indica la correlación entre la primera variable y la segunda variable.\n",
    "\n",
    "En resumen, los valores de la matriz de correlación muestran la fuerza y la dirección de la relación lineal entre las variables. Un valor de 1 indica una correlación positiva perfecta, mientras que un valor de -1 indica una correlación negativa perfecta. En este caso, el valor 0.76452087 indica una correlación positiva fuerte de alrededor de 0.76 entre las dos variables."
   ]
  },
  {
   "cell_type": "code",
   "execution_count": null,
   "metadata": {},
   "outputs": [
    {
     "data": {
      "image/png": "[encoded data removed]",
      "text/plain": [
       "<Figure size 640x480 with 2 Axes>"
      ]
     },
     "metadata": {},
     "output_type": "display_data"
    }
   ],
   "source": [
    "import statsmodels.graphics.api as smg\n",
    "smg.plot_corr(corr_matrix, xnames=[\"EFFPG\", \"APG\"])\n",
    "plt.show()"
   ]
  },
  {
   "cell_type": "markdown",
   "metadata": {},
   "source": [
    "# Linealidad de los residuos"
   ]
  },
  {
   "cell_type": "code",
   "execution_count": null,
   "metadata": {},
   "outputs": [
    {
     "data": {
      "text/plain": [
       "TtestResult(statistic=0.5656460867321317, pvalue=0.5761396652863366, df=28)"
      ]
     },
     "execution_count": 108,
     "metadata": {},
     "output_type": "execute_result"
    }
   ],
   "source": [
    "import statsmodels.stats.diagnostic as diagn #Para el test de Harvey-Collier\n",
    "\n",
    "###H0: El modelo es lineal\n",
    "\n",
    "diagn.linear_harvey_collier(mco1)\n",
    "#mco1.summary()"
   ]
  },
  {
   "cell_type": "markdown",
   "metadata": {},
   "source": [
    "El resultado es el test de Harvey-Collier, que es una prueba utilizada para evaluar si un modelo de regresión lineal simple ha sido afectado por la heterocedasticidad.\n",
    "\n",
    "En el resultado que has obtenido:\n",
    "\n",
    "- El valor statistic=0.5656460867499531 es el estadístico de prueba. Indica la magnitud del efecto o la discrepancia entre los residuos y las predicciones bajo la hipótesis nula de que no hay relación no lineal. En este caso, un valor más cercano a cero sugiere que no hay evidencia sólida de no linealidad en el modelo.\n",
    "\n",
    "- El valor pvalue=0.5761396652743842 es el valor p asociado al estadístico de prueba. Representa la probabilidad de observar el estadístico de prueba si la hipótesis nula fuera verdadera. En este caso, un valor alto de p (más grande que un umbral de significancia, como 0.05) sugiere que no hay suficiente evidencia para rechazar la hipótesis nula de linealidad en el modelo.\n",
    "\n",
    "- El valor df=28 representa los grados de libertad del estadístico de prueba.\n",
    "\n",
    "En resumen, el resultado indica que el p-valor es relativamente alto (0.576) y mayor que un umbral típico de significancia (como 0.05), lo que sugiere que no hay suficiente evidencia para rechazar la hipótesis nula de linealidad en el modelo. Esto podría indicar que el modelo de regresión lineal es apropiado y no parece haber evidencia convincente de no linealidad basada en el resultado de la prueba de Harvey-Collier."
   ]
  },
  {
   "cell_type": "markdown",
   "metadata": {},
   "source": [
    "# Normalidad de los Residuos"
   ]
  },
  {
   "cell_type": "markdown",
   "metadata": {},
   "source": [
    "- Jarque-Bera: Test de hipótesis que contrasta si los datos de la muestra tienen el coeficiente de simetría y la curtósis de una distribución normal.\n",
    "- $\\chi^2$ (p-valor): p-valor del Test de Jaque-Bera.\n",
    "- Skew: Coeficiente de Simetría de pearson de los residuos.\n",
    "- Kurtosis: Coeficiente de apuntamiento de los residuos.\n",
    "- Komogorov-Smirnov: Test de Hipótesis para contrastar si una muestra proviene de una distribución (en este caso normal)."
   ]
  },
  {
   "cell_type": "code",
   "execution_count": null,
   "metadata": {},
   "outputs": [
    {
     "name": "stdout",
     "output_type": "stream",
     "text": [
      "Jarque-Bera Est 0.3331206051324821\n",
      "Jarque-Vera p-val 0.8465717649462386\n",
      "Skew 0.15709915403402733\n",
      "Kurtosis 2.611258598736212\n"
     ]
    }
   ],
   "source": [
    "import statsmodels.stats.api as sms\n",
    "name = ['Jarque-Bera Est', 'Jarque-Vera p-val', 'Skew', 'Kurtosis']\n",
    "test = sms.jarque_bera(mco1.resid)\n",
    "for i in range(4):\n",
    "    print(name[i], test[i])"
   ]
  },
  {
   "cell_type": "markdown",
   "metadata": {},
   "source": [
    "El código realiza una prueba de normalidad sobre los residuos de un modelo de regresión, utilizando la prueba de Jarque-Bera. Esta prueba evalúa si los residuos del modelo tienen una distribución que se asemeja a una distribución normal.\n",
    "\n",
    "Los resultados son los siguientes:\n",
    "\n",
    "- Jarque-Bera Est 0.3331206051324843: Este valor es el estadístico de prueba de Jarque-Bera. Es una medida de la desviación de la distribución de los residuos de la normalidad. Cuanto menor sea este valor, más se asemejan los residuos a una distribución normal. En este caso, el valor es relativamente bajo, indicando que los residuos están más cerca de una distribución normal.\n",
    "\n",
    "- Jarque-Vera p-val 0.8465717649462378: Este valor es el p-valor asociado al estadístico de prueba de Jarque-Bera. Indica la probabilidad de observar el estadístico de prueba si la hipótesis nula (los residuos siguen una distribución normal) fuera verdadera. En este caso, un valor alto de p (mayor que un umbral de significancia típico como 0.05) sugiere que no hay suficiente evidencia para rechazar la hipótesis nula de normalidad en los residuos. Esto sugiere que los residuos pueden seguir una distribución normal.\n",
    "\n",
    "- Skew 0.1570991540340281: Este valor representa la asimetría (skewness) de los residuos. Una medida de asimetría igual a cero indica una simetría perfecta en la distribución. En este caso, el valor de asimetría es positivo, lo que sugiere una ligera asimetría positiva en la distribución de los residuos.\n",
    "\n",
    "- Kurtosis 2.611258598736211: Este valor representa la curtosis (kurtosis) de los residuos. La curtosis mide la \"colas\" de la distribución de los datos. Un valor de curtosis de 3 indica una distribución normal. En este caso, el valor de la curtosis es mayor que 3, lo que sugiere que los residuos pueden tener colas más pesadas (más presencia de valores extremos) en comparación con una distribución normal estándar.\n",
    "\n",
    "En conclusión, estos resultados indican que los residuos pueden seguir una distribución que se aproxima a una distribución normal, pero con una ligera asimetría positiva y posiblemente colas más pesadas en comparación con una distribución normal estándar."
   ]
  },
  {
   "cell_type": "code",
   "execution_count": null,
   "metadata": {},
   "outputs": [
    {
     "data": {
      "image/png": "[encoded data removed]",
      "text/plain": [
       "<Figure size 640x480 with 1 Axes>"
      ]
     },
     "metadata": {},
     "output_type": "display_data"
    },
    {
     "data": {
      "image/png": "[encoded data removed]",
      "text/plain": [
       "<Figure size 640x480 with 1 Axes>"
      ]
     },
     "metadata": {},
     "output_type": "display_data"
    }
   ],
   "source": [
    "from matplotlib import pyplot\n",
    "from statsmodels.graphics.gofplots import qqplot\n",
    "pyplot.hist(mco1.resid)\n",
    "pyplot.show()\n",
    "qqplot(mco1.resid, line='s')\n",
    "pyplot.show()"
   ]
  },
  {
   "cell_type": "markdown",
   "metadata": {},
   "source": [
    "El código produce dos tipos de gráficos para examinar la normalidad de los residuos de un modelo de regresión:\n",
    "- Histograma de los residuos: muestra la distribución de los residuos del modelo de regresión. El histograma es una representación visual de la frecuencia de los residuos en diferentes rangos. Ayuda a visualizar la forma general de la distribución de los residuos, si se asemeja o no a una distribución normal.\n",
    "- Gráfico cuantil-cuantil (QQ Plot) de los residuos:Este fragmento de código genera un gráfico cuantil-cuantil (QQ Plot) de los residuos. El QQ Plot compara los cuantiles de los residuos con los cuantiles teóricos de una distribución normal. Si los residuos siguen una distribución normal, los puntos en el gráfico QQ se alinearán aproximadamente a lo largo de la línea diagonal (line='s' indica una línea de referencia para una distribución normal estándar).\n",
    "Estos gráficos se utilizan comúnmente para evaluar visualmente si los residuos de un modelo de regresión siguen una distribución normal. Si el histograma muestra una forma que se asemeja a una campana (distribución normal) y el QQ Plot muestra que los puntos siguen aproximadamente una línea diagonal, entonces es indicativo de que los residuos se ajustan a una distribución normal.\n",
    "Si los residuos no siguen una distribución normal, estos gráficos podrían mostrar distorsiones o patrones no lineales, lo que podría indicar problemas en el modelo, como una violación de los supuestos de regresión lineal o la presencia de valores atípicos (outliers)."
   ]
  },
  {
   "cell_type": "code",
   "execution_count": null,
   "metadata": {},
   "outputs": [
    {
     "data": {
      "text/plain": [
       "(0.10214937896063359, 0.5347497923233652)"
      ]
     },
     "execution_count": 111,
     "metadata": {},
     "output_type": "execute_result"
    }
   ],
   "source": [
    "import statsmodels.stats.diagnostic as diag\n",
    "\n",
    "diag.kstest_normal(mco1.resid)"
   ]
  },
  {
   "cell_type": "markdown",
   "metadata": {},
   "source": [
    "Esto es test de Kolmogorov-Smirnov (KS), que utilizamos para evaluar si los residuos de un modelo (almacenados en mco1.resid) siguen una distribución normal.\n",
    "\n",
    "Los resultados que has obtenido, (0.10214937896063359, 0.5347497923233652), se desglosan de la siguiente manera:\n",
    "\n",
    "- El primer valor, 0.10214937896063359, es el valor del estadístico de la prueba de Kolmogorov-Smirnov. Este valor indica la máxima discrepancia entre la distribución empírica de los residuos y la distribución teórica normal. En este caso, un valor menor sugiere una menor discrepancia entre las dos distribuciones.\n",
    "\n",
    "- El segundo valor, 0.5347497923233652, es el p-valor asociado al estadístico de la prueba. Este p-valor muestra la probabilidad de observar el estadístico de prueba si la hipótesis nula (los residuos siguen una distribución normal) fuera verdadera. En este caso, un p-valor alto (mayor que un umbral de significancia, como 0.05) sugiere que no hay suficiente evidencia para rechazar la hipótesis nula de normalidad en los residuos. Por lo tanto, los residuos pueden seguir una distribución normal.\n",
    "\n",
    "Por lo que podemos decir que los resultados indican que, según el test de Kolmogorov-Smirnov, no hay suficiente evidencia para rechazar la hipótesis nula de que los residuos siguen una distribución normal, ya que el p-valor es mayor que un umbral de significancia típico (0.05)."
   ]
  },
  {
   "cell_type": "markdown",
   "metadata": {},
   "source": [
    "# Bootstrap\n"
   ]
  },
  {
   "cell_type": "code",
   "execution_count": null,
   "metadata": {},
   "outputs": [
    {
     "name": "stdout",
     "output_type": "stream",
     "text": [
      "0 37.28923721740072 [31.371091736798856, 43.131147480786986]\n",
      "1 0.6101803925690337 [0.5145214123558437, 0.6984962586208721]\n",
      "2 -0.5239227390754021 [-0.9852906479505817, -0.003736466739453594]\n"
     ]
    }
   ],
   "source": [
    "mco1=sm.OLS(y, sm.add_constant(X)).fit()\n",
    "\n",
    "from random import choices\n",
    "\n",
    "beta=[]\n",
    "n=len(y)\n",
    "for it in range(10000): #repetimos 1000 veces la estimacion\n",
    "    I=choices(list(range(n)), k=n) # elegimos una muestra con repeticion de los datos\n",
    "    mco3 = sm.OLS(y[I], sm.add_constant(X.values[I,:])).fit() #ajustamos el modelo\n",
    "    beta.append(list(mco3.params)) # guardamos los coeficientes\n",
    "beta=np.array(beta)\n",
    "k=len(X.T)+1\n",
    "for i in range(k):\n",
    "    q025=np.percentile(beta[:,i], 2.5) #percentil 2.5%\n",
    "    q975=np.percentile(beta[:,i], 97.5) #percentil 97.5%\n",
    "    media=np.mean(beta[:,i]) #media de los betas\n",
    "    sd=np.std(beta[:,i]) #desviación tipica de los betas\n",
    "    print(i, media,[q025, q975])"
   ]
  },
  {
   "cell_type": "markdown",
   "metadata": {},
   "source": [
    "Bootstrap se utiliza para estimar los intervalos de confianza para los coeficientes del modelo de regresión lineal, es una técnica de remuestreo que se utiliza para aproximar la distribución de un estadístico utilizando muestras aleatorias con reemplazo.\n",
    "\n",
    "Estos resultados indican la incertidumbre asociada con la estimación de los coeficientes del modelo y brindan información sobre la variabilidad esperada en los coeficientes basada en las muestras bootstrap. Los intervalos de confianza más amplios indican mayor variabilidad y, por ende, menor precisión en la estimación puntual del valor del coeficiente.\n",
    "\n",
    "En nuestro caso al tener intervalos poco ampliamos indica una mayor precisión."
   ]
  },
  {
   "cell_type": "code",
   "execution_count": null,
   "metadata": {},
   "outputs": [
    {
     "data": {
      "text/html": [
       "<table class=\"simpletable\">\n",
       "<caption>OLS Regression Results</caption>\n",
       "<tr>\n",
       "  <th>Dep. Variable:</th>           <td>PPG</td>       <th>  R-squared:         </th> <td>   0.924</td>\n",
       "</tr>\n",
       "<tr>\n",
       "  <th>Model:</th>                   <td>OLS</td>       <th>  Adj. R-squared:    </th> <td>   0.919</td>\n",
       "</tr>\n",
       "<tr>\n",
       "  <th>Method:</th>             <td>Least Squares</td>  <th>  F-statistic:       </th> <td>   176.1</td>\n",
       "</tr>\n",
       "<tr>\n",
       "  <th>Date:</th>             <td>Sun, 03 Dec 2023</td> <th>  Prob (F-statistic):</th> <td>6.01e-17</td>\n",
       "</tr>\n",
       "<tr>\n",
       "  <th>Time:</th>                 <td>12:35:27</td>     <th>  Log-Likelihood:    </th> <td> -72.241</td>\n",
       "</tr>\n",
       "<tr>\n",
       "  <th>No. Observations:</th>      <td>    32</td>      <th>  AIC:               </th> <td>   150.5</td>\n",
       "</tr>\n",
       "<tr>\n",
       "  <th>Df Residuals:</th>          <td>    29</td>      <th>  BIC:               </th> <td>   154.9</td>\n",
       "</tr>\n",
       "<tr>\n",
       "  <th>Df Model:</th>              <td>     2</td>      <th>                     </th>     <td> </td>   \n",
       "</tr>\n",
       "<tr>\n",
       "  <th>Covariance Type:</th>      <td>nonrobust</td>    <th>                     </th>     <td> </td>   \n",
       "</tr>\n",
       "</table>\n",
       "<table class=\"simpletable\">\n",
       "<tr>\n",
       "    <td></td>       <th>coef</th>     <th>std err</th>      <th>t</th>      <th>P>|t|</th>  <th>[0.025</th>    <th>0.975]</th>  \n",
       "</tr>\n",
       "<tr>\n",
       "  <th>const</th> <td>   37.3335</td> <td>    3.197</td> <td>   11.677</td> <td> 0.000</td> <td>   30.794</td> <td>   43.873</td>\n",
       "</tr>\n",
       "<tr>\n",
       "  <th>EFFPG</th> <td>    0.6154</td> <td>    0.045</td> <td>   13.769</td> <td> 0.000</td> <td>    0.524</td> <td>    0.707</td>\n",
       "</tr>\n",
       "<tr>\n",
       "  <th>APG</th>   <td>   -0.5517</td> <td>    0.239</td> <td>   -2.308</td> <td> 0.028</td> <td>   -1.041</td> <td>   -0.063</td>\n",
       "</tr>\n",
       "</table>\n",
       "<table class=\"simpletable\">\n",
       "<tr>\n",
       "  <th>Omnibus:</th>       <td> 0.192</td> <th>  Durbin-Watson:     </th> <td>   2.410</td>\n",
       "</tr>\n",
       "<tr>\n",
       "  <th>Prob(Omnibus):</th> <td> 0.909</td> <th>  Jarque-Bera (JB):  </th> <td>   0.333</td>\n",
       "</tr>\n",
       "<tr>\n",
       "  <th>Skew:</th>          <td> 0.157</td> <th>  Prob(JB):          </th> <td>   0.847</td>\n",
       "</tr>\n",
       "<tr>\n",
       "  <th>Kurtosis:</th>      <td> 2.611</td> <th>  Cond. No.          </th> <td>    718.</td>\n",
       "</tr>\n",
       "</table><br/><br/>Notes:<br/>[1] Standard Errors assume that the covariance matrix of the errors is correctly specified."
      ],
      "text/latex": [
       "\\begin{center}\n",
       "\\begin{tabular}{lclc}\n",
       "\\toprule\n",
       "\\textbf{Dep. Variable:}    &       PPG        & \\textbf{  R-squared:         } &     0.924   \\\\\n",
       "\\textbf{Model:}            &       OLS        & \\textbf{  Adj. R-squared:    } &     0.919   \\\\\n",
       "\\textbf{Method:}           &  Least Squares   & \\textbf{  F-statistic:       } &     176.1   \\\\\n",
       "\\textbf{Date:}             & Sun, 03 Dec 2023 & \\textbf{  Prob (F-statistic):} &  6.01e-17   \\\\\n",
       "\\textbf{Time:}             &     12:35:27     & \\textbf{  Log-Likelihood:    } &   -72.241   \\\\\n",
       "\\textbf{No. Observations:} &          32      & \\textbf{  AIC:               } &     150.5   \\\\\n",
       "\\textbf{Df Residuals:}     &          29      & \\textbf{  BIC:               } &     154.9   \\\\\n",
       "\\textbf{Df Model:}         &           2      & \\textbf{                     } &             \\\\\n",
       "\\textbf{Covariance Type:}  &    nonrobust     & \\textbf{                     } &             \\\\\n",
       "\\bottomrule\n",
       "\\end{tabular}\n",
       "\\begin{tabular}{lcccccc}\n",
       "               & \\textbf{coef} & \\textbf{std err} & \\textbf{t} & \\textbf{P$> |$t$|$} & \\textbf{[0.025} & \\textbf{0.975]}  \\\\\n",
       "\\midrule\n",
       "\\textbf{const} &      37.3335  &        3.197     &    11.677  &         0.000        &       30.794    &       43.873     \\\\\n",
       "\\textbf{EFFPG} &       0.6154  &        0.045     &    13.769  &         0.000        &        0.524    &        0.707     \\\\\n",
       "\\textbf{APG}   &      -0.5517  &        0.239     &    -2.308  &         0.028        &       -1.041    &       -0.063     \\\\\n",
       "\\bottomrule\n",
       "\\end{tabular}\n",
       "\\begin{tabular}{lclc}\n",
       "\\textbf{Omnibus:}       &  0.192 & \\textbf{  Durbin-Watson:     } &    2.410  \\\\\n",
       "\\textbf{Prob(Omnibus):} &  0.909 & \\textbf{  Jarque-Bera (JB):  } &    0.333  \\\\\n",
       "\\textbf{Skew:}          &  0.157 & \\textbf{  Prob(JB):          } &    0.847  \\\\\n",
       "\\textbf{Kurtosis:}      &  2.611 & \\textbf{  Cond. No.          } &     718.  \\\\\n",
       "\\bottomrule\n",
       "\\end{tabular}\n",
       "%\\caption{OLS Regression Results}\n",
       "\\end{center}\n",
       "\n",
       "Notes: \\newline\n",
       " [1] Standard Errors assume that the covariance matrix of the errors is correctly specified."
      ],
      "text/plain": [
       "<class 'statsmodels.iolib.summary.Summary'>\n",
       "\"\"\"\n",
       "                            OLS Regression Results                            \n",
       "==============================================================================\n",
       "Dep. Variable:                    PPG   R-squared:                       0.924\n",
       "Model:                            OLS   Adj. R-squared:                  0.919\n",
       "Method:                 Least Squares   F-statistic:                     176.1\n",
       "Date:                Sun, 03 Dec 2023   Prob (F-statistic):           6.01e-17\n",
       "Time:                        12:35:27   Log-Likelihood:                -72.241\n",
       "No. Observations:                  32   AIC:                             150.5\n",
       "Df Residuals:                      29   BIC:                             154.9\n",
       "Df Model:                           2                                         \n",
       "Covariance Type:            nonrobust                                         \n",
       "==============================================================================\n",
       "                 coef    std err          t      P>|t|      [0.025      0.975]\n",
       "------------------------------------------------------------------------------\n",
       "const         37.3335      3.197     11.677      0.000      30.794      43.873\n",
       "EFFPG          0.6154      0.045     13.769      0.000       0.524       0.707\n",
       "APG           -0.5517      0.239     -2.308      0.028      -1.041      -0.063\n",
       "==============================================================================\n",
       "Omnibus:                        0.192   Durbin-Watson:                   2.410\n",
       "Prob(Omnibus):                  0.909   Jarque-Bera (JB):                0.333\n",
       "Skew:                           0.157   Prob(JB):                        0.847\n",
       "Kurtosis:                       2.611   Cond. No.                         718.\n",
       "==============================================================================\n",
       "\n",
       "Notes:\n",
       "[1] Standard Errors assume that the covariance matrix of the errors is correctly specified.\n",
       "\"\"\""
      ]
     },
     "execution_count": 113,
     "metadata": {},
     "output_type": "execute_result"
    }
   ],
   "source": [
    "import statsmodels.stats.diagnostic as diagn #Para el test de Harvey-Collier\n",
    "\n",
    "diagn.linear_harvey_collier(mco1)\n",
    "mco1.summary()\n"
   ]
  },
  {
   "cell_type": "markdown",
   "metadata": {},
   "source": [
    "# Heteroscedasticidad"
   ]
  },
  {
   "cell_type": "markdown",
   "metadata": {},
   "source": [
    "Un gráfico de dispersión representa visualmente la relación entre dos variables, donde cada punto en el plano corresponde a un par de valores. La dispersión de los puntos revela patrones o tendencias en la relación entre las variables."
   ]
  },
  {
   "cell_type": "code",
   "execution_count": null,
   "metadata": {},
   "outputs": [
    {
     "data": {
      "text/plain": [
       "<matplotlib.collections.PathCollection at 0x1f55ec4b310>"
      ]
     },
     "execution_count": 119,
     "metadata": {},
     "output_type": "execute_result"
    },
    {
     "data": {
      "image/png": "[encoded data removed]",
      "text/plain": [
       "<Figure size 640x480 with 1 Axes>"
      ]
     },
     "metadata": {},
     "output_type": "display_data"
    }
   ],
   "source": [
    "plt.scatter(data['EFFPG'], mco1.resid**2)"
   ]
  },
  {
   "cell_type": "markdown",
   "metadata": {},
   "source": [
    "Utilizamos la biblioteca Matplotlib en Python para crear un gráfico de dispersión (scatter plot) utilizando los datos de la columna llamada “EFFPG” de un DataFrame llamado “data” y la variable de residuos cuadrados de un modelo."
   ]
  },
  {
   "cell_type": "code",
   "execution_count": null,
   "metadata": {},
   "outputs": [
    {
     "data": {
      "text/plain": [
       "<matplotlib.collections.PathCollection at 0x1f55fccce50>"
      ]
     },
     "execution_count": 120,
     "metadata": {},
     "output_type": "execute_result"
    },
    {
     "data": {
      "image/png": "[encoded data removed]",
      "text/plain": [
       "<Figure size 640x480 with 1 Axes>"
      ]
     },
     "metadata": {},
     "output_type": "display_data"
    }
   ],
   "source": [
    "plt.scatter(data['APG'], mco1.resid**2)"
   ]
  },
  {
   "cell_type": "markdown",
   "metadata": {},
   "source": [
    "Utilizamos la biblioteca Matplotlib en Python para crear un gráfico de dispersión (scatter plot) utilizando los datos de la columna llamada “APG”  de un DataFrame llamado “data” y la variable de residuos cuadrados de un modelo"
   ]
  },
  {
   "cell_type": "code",
   "execution_count": null,
   "metadata": {},
   "outputs": [
    {
     "data": {
      "text/plain": [
       "array([[  1. , 112.5,  22.5],\n",
       "       [  1. , 117.9,  23.6],\n",
       "       [  1. , 114.9,  22.3],\n",
       "       [  1. , 128.8,  23.9],\n",
       "       [  1. , 107.4,  24.4],\n",
       "       [  1. , 106.9,  21.4],\n",
       "       [  1. ,  94.9,  18.3],\n",
       "       [  1. ,  88.3,  19.5],\n",
       "       [  1. , 107.8,  27.8],\n",
       "       [  1. , 112. ,  23.2],\n",
       "       [  1. ,  88. ,  17. ],\n",
       "       [  1. ,  97.4,  19.8],\n",
       "       [  1. ,  98.2,  21.4],\n",
       "       [  1. ,  88.8,  18.6],\n",
       "       [  1. ,  81.4,  17.8],\n",
       "       [  1. ,  82.2,  19.4],\n",
       "       [  1. , 106.8,  22.6],\n",
       "       [  1. ,  98. ,  22. ],\n",
       "       [  1. ,  91.2,  21.2],\n",
       "       [  1. ,  90.2,  17.6],\n",
       "       [  1. ,  98. ,  24.6],\n",
       "       [  1. ,  87.6,  20.2],\n",
       "       [  1. ,  83.8,  19.4],\n",
       "       [  1. ,  86.8,  16. ],\n",
       "       [  1. ,  87.4,  22.2],\n",
       "       [  1. ,  71.4,  17. ],\n",
       "       [  1. ,  79.8,  17.2],\n",
       "       [  1. ,  75.2,  16.4],\n",
       "       [  1. ,  76.6,  18.6],\n",
       "       [  1. ,  75.8,  19.6],\n",
       "       [  1. ,  66.8,  18.2],\n",
       "       [  1. ,  74. ,  18. ]])"
      ]
     },
     "execution_count": 121,
     "metadata": {},
     "output_type": "execute_result"
    }
   ],
   "source": [
    " mco1.model.exog"
   ]
  },
  {
   "cell_type": "markdown",
   "metadata": {},
   "source": [
    "Estos son los valores de 'EFFPG' y 'APG'"
   ]
  },
  {
   "cell_type": "markdown",
   "metadata": {},
   "source": [
    "Los datos mostrados son una matriz donde cada fila representa una observación y cada columna representa una variable diferente. Por lo general, en un contexto de regresión lineal, la primera columna con valores de 1s (1.0) suele representar el término de intersección o constante, mientras que las columnas restantes representan las variables independientes utilizadas en el modelo, la primera columnas es 'EFFPG' y la segunda columna es 'APG'."
   ]
  },
  {
   "cell_type": "code",
   "execution_count": null,
   "metadata": {},
   "outputs": [
    {
     "name": "stdout",
     "output_type": "stream",
     "text": [
      "Goldfeld Quandt:  (0.6782803095393853, 0.7026327587066838, 'increasing')\n"
     ]
    }
   ],
   "source": [
    "import statsmodels.stats.api as sms\n",
    "\n",
    "#GOLDFELD-QUANDT (Muestras Pequeñas)\n",
    "GQ=sms.het_goldfeldquandt(y, sm.add_constant(data[\"EFFPG\"]), split=1/3, drop=1/3)\n",
    "print(\"Goldfeld Quandt: \", GQ)\n"
   ]
  },
  {
   "cell_type": "markdown",
   "metadata": {},
   "source": [
    "El test de Goldfeld-Quandt evalúa la heterocedasticidad en un modelo de regresión, con el objetivo de verificar si la varianza de los errores es constante a lo largo de los valores de la variable independiente. Usamos y (PPG) como variable dependiente y “EFFPG”como variable independiente. Se especifica split=1/3 y drop=1/3, indicando que se divide el conjunto de datos en tercios y se excluye un tercio en ambos extremos para realizar la prueba.\n",
    "\n",
    "- El primer valor, 0.6782803095393853, es la estadística de prueba del test de Goldfeld-Quandt. Esta estadística se utiliza para comparar con valores críticos para determinar si hay evidencia suficiente para rechazar la hipótesis nula de homocedasticidad (es decir, igualdad de varianzas) en el modelo.\n",
    "\n",
    "- El segundo valor, 0.7026327587066838, es el p-valor asociado con la estadística de prueba. En este caso, al ser un p-valor mayor a un nivel de significancia común (como 0.05 o 0.01), no hay suficiente evidencia para rechazar la hipótesis nula de homocedasticidad. Por lo tanto, no se puede concluir que haya heterocedasticidad en los errores del modelo.\n",
    "\n",
    "- El tercer valor, 'increasing', indica la conclusión acerca de cómo varía la heterocedasticidad si se encuentra. En este caso, 'increasing' significa que hay una evidencia potencial de que la heterocedasticidad, si existe, puede estar aumentando a medida que aumenta el valor de la variable independiente examinada en el test (en este caso, 'EFFPG').\n",
    "\n",
    "En consclusión, según los resultados del test de Goldfeld-Quandt que proporcionaste, no hay suficiente evidencia para concluir que hay heterocedasticidad en el modelo considerado."
   ]
  },
  {
   "cell_type": "code",
   "execution_count": null,
   "metadata": {},
   "outputs": [
    {
     "name": "stdout",
     "output_type": "stream",
     "text": [
      "Goldfeld Quandt:  (0.4846052205033327, 0.8416209643813879, 'increasing')\n"
     ]
    }
   ],
   "source": [
    "import statsmodels.stats.api as sms\n",
    "\n",
    "#GOLDFELD-QUANDT (Muestras Pequeñas)\n",
    "GQ=sms.het_goldfeldquandt(y, sm.add_constant(data[\"APG\"]), split=1/3, drop=1/3)\n",
    "print(\"Goldfeld Quandt: \", GQ)"
   ]
  },
  {
   "cell_type": "markdown",
   "metadata": {},
   "source": [
    "Evaluamos la heterocedasticidad con y como variable dependiente y “APG” como variable independiente.\n",
    "\n",
    "- La estadística de prueba es 0.4846052205033327. Esta estadística se compara con valores críticos para determinar si hay suficiente evidencia para rechazar la hipótesis nula de homocedasticidad en el modelo. Una estadística de prueba más baja sugiere menos evidencia en contra de la homocedasticidad.\n",
    "\n",
    "- El valor p asociado es 0.8416209643813879. Al ser mayor a niveles de significancia comunes (como 0.05 o 0.01), indica que no hay suficiente evidencia para rechazar la hipótesis nula de homocedasticidad. Por lo tanto, no se puede concluir que exista heterocedasticidad en los errores del modelo.\n",
    "\n",
    "- La conclusión 'increasing' indica que, si hay presencia de heterocedasticidad (aunque no se puede afirmar con certeza en base a este resultado), esa heterocedasticidad, de existir, podría aumentar a medida que aumenta el valor de la variable independiente examinada en el test ('APG' en este caso).\n",
    "\n",
    "En resumen, según estos resultados del test de Goldfeld-Quandt, no hay suficiente evidencia para afirmar la presencia de heterocedasticidad en el modelo considerado."
   ]
  },
  {
   "cell_type": "code",
   "execution_count": null,
   "metadata": {},
   "outputs": [
    {
     "data": {
      "text/plain": [
       "0      93.0\n",
       "1      95.1\n",
       "2      98.8\n",
       "3     104.5\n",
       "4      89.3\n",
       "5      89.1\n",
       "6      88.0\n",
       "7      79.3\n",
       "8      85.8\n",
       "9      93.8\n",
       "10     79.4\n",
       "11     88.8\n",
       "12     84.0\n",
       "13     85.0\n",
       "14     78.4\n",
       "15     75.8\n",
       "16     91.2\n",
       "17     81.0\n",
       "18     83.2\n",
       "19     82.4\n",
       "20     85.0\n",
       "21     85.8\n",
       "22     79.4\n",
       "23     79.6\n",
       "24     82.0\n",
       "25     73.6\n",
       "26     74.6\n",
       "27     73.2\n",
       "28     75.8\n",
       "29     74.2\n",
       "30     64.2\n",
       "31     73.8\n",
       "Name: PPG, dtype: float64"
      ]
     },
     "execution_count": 125,
     "metadata": {},
     "output_type": "execute_result"
    }
   ],
   "source": [
    "y"
   ]
  },
  {
   "cell_type": "markdown",
   "metadata": {},
   "source": [
    "Estos son los valores de 'PPG'"
   ]
  },
  {
   "cell_type": "code",
   "execution_count": null,
   "metadata": {},
   "outputs": [
    {
     "name": "stdout",
     "output_type": "stream",
     "text": [
      "Breush Pagan:  (0.8187366091389947, 0.6640696074058728, 0.3807312322051359, 0.6867269280344395)\n"
     ]
    }
   ],
   "source": [
    "#BREUSH-PAGAN\n",
    "BP=sms.het_breuschpagan(mco1.resid, mco1.model.exog)\n",
    "print(\"Breush Pagan: \", BP)"
   ]
  },
  {
   "cell_type": "markdown",
   "metadata": {},
   "source": [
    "El test de Breusch-Pagan se utiliza para evaluar la presencia de heterocedasticidad en el modelo, es decir, si la varianza de los errores es constante o varía sistemáticamente a lo largo de los valores de las variables explicativas.\n",
    "\n",
    "El resultado del test de Breusch-Pagan es una tupla con cuatro valores:\n",
    "\n",
    "- Estadístico de prueba (Test Statistic): 0.8187366091389947. Este valor es la estadística de prueba del test de Breusch-Pagan. Representa la magnitud del efecto de la heterocedasticidad. En este caso, cuanto mayor sea el valor, mayor es la evidencia de heterocedasticidad. En este caso, un valor cercano a cero sugiere que no hay evidencia fuerte de heterocedasticidad.\n",
    "\n",
    "- valor (p-value): 0.6640696074058728. p-valor es la probabilidad de observar el estadístico de prueba bajo la hipótesis nula de no heterocedasticidad. En este caso, como el p-valor es mayor que un nivel de significancia típico (como 0.05), no hay suficiente evidencia para rechazar la hipótesis nula. Esto sugiere que no hay evidencia significativa de heterocedasticidad.\n",
    "\n",
    "- Grados de libertad del modelo (Degrees of Freedom Model): 0.3807312322051359. Representa los grados de libertad asociados con el modelo en el test de Breusch-Pagan. Indica cuántos parámetros del modelo se están evaluando. Un valor no entero puede deberse a ajustes específicos del método utilizado.\n",
    "\n",
    "- P-valor del modelo (Model P-Value): 0.6867269280344395. Es el p-valor asociado con el estadístico de prueba del modelo en el test de Breusch-Pagan. Al igual que el p-valor anterior, si es mayor que el nivel de significancia, no hay suficiente evidencia para rechazar la hipótesis nula de no heterocedasticidad.\n",
    "\n",
    "En conclusión, los resultados sugieren que no hay evidencia significativa de heterocedasticidad en el modelo, ya que ambos p-valores asociados con el estadístico de prueba y el modelo son mayores que el nivel de significancia comúnmente utilizado (por ejemplo, 0.05).\n",
    "\n",
    "Esto sugiere que la varianza de los errores no varía sistemáticamente con respecto a las variables explicativas en el modelo."
   ]
  },
  {
   "cell_type": "code",
   "execution_count": null,
   "metadata": {},
   "outputs": [
    {
     "data": {
      "text/plain": [
       "(2.8854992252278002, 0.7176330505988524, 0.515365043943535, 0.7621837237700924)"
      ]
     },
     "execution_count": 129,
     "metadata": {},
     "output_type": "execute_result"
    }
   ],
   "source": [
    "#WHITE\n",
    "W=sms.het_white(mco1.resid, mco1.model.exog)\n",
    "W"
   ]
  },
  {
   "cell_type": "markdown",
   "metadata": {},
   "source": [
    "La prueba de White para la heterocedasticidad en nuestro modelo de regresión da los siguientes valores.\n",
    "\n",
    "- El primer valor (2.8854992252278002) es la estadística del test de White. Esta estadística se utiliza para evaluar si hay evidencia suficiente para rechazar la hipótesis nula de homocedasticidad. Valores grandes de esta estadística pueden sugerir la presencia de heterocedasticidad en el modelo.\n",
    "\n",
    "- El segundo valor (0.7176330505988524) es el p-value asociado con la estadística del test. Un p-value bajo (generalmente, menor que un umbral como 0.05) proporciona evidencia en contra de la hipótesis nula de homocedasticidad. En este caso, un p-value alto (0.7176) sugiere que no hay suficiente evidencia para rechazar la hipótesis nula de homocedasticidad, lo que podría interpretarse como que no hay heterocedasticidad significativa en el modelo.\n",
    "\n",
    "- El tercer valor (0.515365043943535) es el p-value para la prueba de no linealidad. Esta parte de la prueba evalúa si hay evidencia de errores heterocedásticos cuadráticos (no lineales) en el modelo.\n",
    "\n",
    "- El cuarto valor (0.7621837237700924) es el p-value para la prueba de correlación entre los términos al cuadrado y los términos cruzados. Esta parte de la prueba verifica si hay correlación entre los términos al cuadrado de las variables independientes y los términos cruzados de las variables independientes.\n",
    "\n",
    "En conclusión, estos valores proporcionan información sobre la presencia de heterocedasticidad en el modelo y si ciertas formas específicas de heterocedasticidad, como la no linealidad o la correlación entre términos al cuadrado y términos cruzados, están presentes y son significativas. Un p-value alto en todas estas pruebas generalmente sugiere que no hay suficiente evidencia para rechazar la hipótesis nula de homocedasticidad en el modelo."
   ]
  },
  {
   "cell_type": "code",
   "execution_count": null,
   "metadata": {},
   "outputs": [
    {
     "name": "stdout",
     "output_type": "stream",
     "text": [
      "h:  -2 -> pvalt: 0.5027703765286773 R2:  0.015105418036134965\n",
      "h:  -1 -> pvalt: 0.4829439704767975 R2:  0.016543855027476906\n",
      "h:  -0.5 -> pvalt: 0.470558125848367 R2:  0.017491899248242015\n",
      "h:  0.5 -> pvalt: 0.4427688875226904 R2:  0.01976792933109839\n",
      "h:  1 -> pvalt: 0.4281729944866566 R2:  0.021052028229936237\n",
      "h:  2 -> pvalt: 0.39946474259928866 R2:  0.023774220915063204\n"
     ]
    }
   ],
   "source": [
    "\n",
    "\n",
    "\n",
    "#GLEJSER\n",
    "z=data['EFFPG']\n",
    "for h in [-2, -1, -0.5, 0.5, 1, 2]:\n",
    "    # |e| = delta_0 + delta_1 z^h + eps\n",
    "    mcoaux=sm.OLS(abs(mco1.resid), sm.add_constant(z**h)).fit()\n",
    "    pval=mcoaux.pvalues[1]\n",
    "    print(\"h: \", h, \"-> pvalt:\", pval, \"R2: \", mcoaux.rsquared)\n"
   ]
  },
  {
   "cell_type": "markdown",
   "metadata": {},
   "source": [
    "Los resultados impresos muestran los valores de los p-values (pval) y los coeficientes de determinación R² (mcoaux.rsquared) para diferentes potencias de la variable EFFPG utilizadas en los modelos de regresión ajustados. Estos resultados se utilizan para evaluar si la heterocedasticidad condicional está presente en el modelo. Cuando los p-values son bajos, se considera que la potencia correspondiente de z tiene un efecto significativo sobre la variabilidad de los errores, lo que podría indicar la presencia de heterocedasticidad condicional. En este caso, los p-values son relativamente altos, lo que sugiere que no hay evidencia significativa de heterocedasticidad condicional en relación con las potencias de EFFPG probadas."
   ]
  },
  {
   "cell_type": "code",
   "execution_count": null,
   "metadata": {},
   "outputs": [
    {
     "name": "stdout",
     "output_type": "stream",
     "text": [
      "h:  -2 -> pvalt: 0.7336933821726432 R2:  0.003915369585385742\n",
      "h:  -1 -> pvalt: 0.6989993881880401 R2:  0.005054719036357125\n",
      "h:  -0.5 -> pvalt: 0.6829415256792508 R2:  0.005638556429860775\n",
      "h:  0.5 -> pvalt: 0.6547161005148625 R2:  0.006755897993605653\n",
      "h:  1 -> pvalt: 0.6430574298264017 R2:  0.007252646854061129\n",
      "h:  2 -> pvalt: 0.6258062789300489 R2:  0.008027066590501897\n"
     ]
    }
   ],
   "source": [
    "#GLEJSER\n",
    "z=data['APG']\n",
    "for h in [-2, -1, -0.5, 0.5, 1, 2]:\n",
    "    # |e| = delta_0 + delta_1 z^h + eps\n",
    "    mcoaux=sm.OLS(abs(mco1.resid), sm.add_constant(z**h)).fit()\n",
    "    pval=mcoaux.pvalues[1]\n",
    "    print(\"h: \", h, \"-> pvalt:\", pval, \"R2: \", mcoaux.rsquared)"
   ]
  },
  {
   "cell_type": "markdown",
   "metadata": {},
   "source": [
    "Los resultados impresos muestran los valores de los p-values (pval) y los coeficientes de determinación R² (mcoaux.rsquared) para diferentes potencias de la variable APG utilizadas en los modelos de regresión ajustados. Estos resultados se utilizan para evaluar si la heterocedasticidad condicional está presente en el modelo. Cuando los p-values son bajos, se considera que la potencia correspondiente de z tiene un efecto significativo sobre la variabilidad de los errores, lo que podría indicar la presencia de heterocedasticidad condicional. En este caso, los p-values son relativamente altos, lo que sugiere que no hay evidencia significativa de heterocedasticidad condicional en relación con las potencias de APG probadas."
   ]
  },
  {
   "cell_type": "code",
   "execution_count": null,
   "metadata": {},
   "outputs": [
    {
     "data": {
      "text/html": [
       "<table class=\"simpletable\">\n",
       "<caption>OLS Regression Results</caption>\n",
       "<tr>\n",
       "  <th>Dep. Variable:</th>           <td>PPG</td>       <th>  R-squared:         </th> <td>   0.924</td>\n",
       "</tr>\n",
       "<tr>\n",
       "  <th>Model:</th>                   <td>OLS</td>       <th>  Adj. R-squared:    </th> <td>   0.919</td>\n",
       "</tr>\n",
       "<tr>\n",
       "  <th>Method:</th>             <td>Least Squares</td>  <th>  F-statistic:       </th> <td>   176.1</td>\n",
       "</tr>\n",
       "<tr>\n",
       "  <th>Date:</th>             <td>Sun, 03 Dec 2023</td> <th>  Prob (F-statistic):</th> <td>6.01e-17</td>\n",
       "</tr>\n",
       "<tr>\n",
       "  <th>Time:</th>                 <td>13:15:16</td>     <th>  Log-Likelihood:    </th> <td> -72.241</td>\n",
       "</tr>\n",
       "<tr>\n",
       "  <th>No. Observations:</th>      <td>    32</td>      <th>  AIC:               </th> <td>   150.5</td>\n",
       "</tr>\n",
       "<tr>\n",
       "  <th>Df Residuals:</th>          <td>    29</td>      <th>  BIC:               </th> <td>   154.9</td>\n",
       "</tr>\n",
       "<tr>\n",
       "  <th>Df Model:</th>              <td>     2</td>      <th>                     </th>     <td> </td>   \n",
       "</tr>\n",
       "<tr>\n",
       "  <th>Covariance Type:</th>      <td>nonrobust</td>    <th>                     </th>     <td> </td>   \n",
       "</tr>\n",
       "</table>\n",
       "<table class=\"simpletable\">\n",
       "<tr>\n",
       "    <td></td>       <th>coef</th>     <th>std err</th>      <th>t</th>      <th>P>|t|</th>  <th>[0.025</th>    <th>0.975]</th>  \n",
       "</tr>\n",
       "<tr>\n",
       "  <th>const</th> <td>   37.3335</td> <td>    3.197</td> <td>   11.677</td> <td> 0.000</td> <td>   30.794</td> <td>   43.873</td>\n",
       "</tr>\n",
       "<tr>\n",
       "  <th>EFFPG</th> <td>    0.6154</td> <td>    0.045</td> <td>   13.769</td> <td> 0.000</td> <td>    0.524</td> <td>    0.707</td>\n",
       "</tr>\n",
       "<tr>\n",
       "  <th>APG</th>   <td>   -0.5517</td> <td>    0.239</td> <td>   -2.308</td> <td> 0.028</td> <td>   -1.041</td> <td>   -0.063</td>\n",
       "</tr>\n",
       "</table>\n",
       "<table class=\"simpletable\">\n",
       "<tr>\n",
       "  <th>Omnibus:</th>       <td> 0.192</td> <th>  Durbin-Watson:     </th> <td>   2.410</td>\n",
       "</tr>\n",
       "<tr>\n",
       "  <th>Prob(Omnibus):</th> <td> 0.909</td> <th>  Jarque-Bera (JB):  </th> <td>   0.333</td>\n",
       "</tr>\n",
       "<tr>\n",
       "  <th>Skew:</th>          <td> 0.157</td> <th>  Prob(JB):          </th> <td>   0.847</td>\n",
       "</tr>\n",
       "<tr>\n",
       "  <th>Kurtosis:</th>      <td> 2.611</td> <th>  Cond. No.          </th> <td>    718.</td>\n",
       "</tr>\n",
       "</table><br/><br/>Notes:<br/>[1] Standard Errors assume that the covariance matrix of the errors is correctly specified."
      ],
      "text/latex": [
       "\\begin{center}\n",
       "\\begin{tabular}{lclc}\n",
       "\\toprule\n",
       "\\textbf{Dep. Variable:}    &       PPG        & \\textbf{  R-squared:         } &     0.924   \\\\\n",
       "\\textbf{Model:}            &       OLS        & \\textbf{  Adj. R-squared:    } &     0.919   \\\\\n",
       "\\textbf{Method:}           &  Least Squares   & \\textbf{  F-statistic:       } &     176.1   \\\\\n",
       "\\textbf{Date:}             & Sun, 03 Dec 2023 & \\textbf{  Prob (F-statistic):} &  6.01e-17   \\\\\n",
       "\\textbf{Time:}             &     13:15:16     & \\textbf{  Log-Likelihood:    } &   -72.241   \\\\\n",
       "\\textbf{No. Observations:} &          32      & \\textbf{  AIC:               } &     150.5   \\\\\n",
       "\\textbf{Df Residuals:}     &          29      & \\textbf{  BIC:               } &     154.9   \\\\\n",
       "\\textbf{Df Model:}         &           2      & \\textbf{                     } &             \\\\\n",
       "\\textbf{Covariance Type:}  &    nonrobust     & \\textbf{                     } &             \\\\\n",
       "\\bottomrule\n",
       "\\end{tabular}\n",
       "\\begin{tabular}{lcccccc}\n",
       "               & \\textbf{coef} & \\textbf{std err} & \\textbf{t} & \\textbf{P$> |$t$|$} & \\textbf{[0.025} & \\textbf{0.975]}  \\\\\n",
       "\\midrule\n",
       "\\textbf{const} &      37.3335  &        3.197     &    11.677  &         0.000        &       30.794    &       43.873     \\\\\n",
       "\\textbf{EFFPG} &       0.6154  &        0.045     &    13.769  &         0.000        &        0.524    &        0.707     \\\\\n",
       "\\textbf{APG}   &      -0.5517  &        0.239     &    -2.308  &         0.028        &       -1.041    &       -0.063     \\\\\n",
       "\\bottomrule\n",
       "\\end{tabular}\n",
       "\\begin{tabular}{lclc}\n",
       "\\textbf{Omnibus:}       &  0.192 & \\textbf{  Durbin-Watson:     } &    2.410  \\\\\n",
       "\\textbf{Prob(Omnibus):} &  0.909 & \\textbf{  Jarque-Bera (JB):  } &    0.333  \\\\\n",
       "\\textbf{Skew:}          &  0.157 & \\textbf{  Prob(JB):          } &    0.847  \\\\\n",
       "\\textbf{Kurtosis:}      &  2.611 & \\textbf{  Cond. No.          } &     718.  \\\\\n",
       "\\bottomrule\n",
       "\\end{tabular}\n",
       "%\\caption{OLS Regression Results}\n",
       "\\end{center}\n",
       "\n",
       "Notes: \\newline\n",
       " [1] Standard Errors assume that the covariance matrix of the errors is correctly specified."
      ],
      "text/plain": [
       "<class 'statsmodels.iolib.summary.Summary'>\n",
       "\"\"\"\n",
       "                            OLS Regression Results                            \n",
       "==============================================================================\n",
       "Dep. Variable:                    PPG   R-squared:                       0.924\n",
       "Model:                            OLS   Adj. R-squared:                  0.919\n",
       "Method:                 Least Squares   F-statistic:                     176.1\n",
       "Date:                Sun, 03 Dec 2023   Prob (F-statistic):           6.01e-17\n",
       "Time:                        13:15:16   Log-Likelihood:                -72.241\n",
       "No. Observations:                  32   AIC:                             150.5\n",
       "Df Residuals:                      29   BIC:                             154.9\n",
       "Df Model:                           2                                         \n",
       "Covariance Type:            nonrobust                                         \n",
       "==============================================================================\n",
       "                 coef    std err          t      P>|t|      [0.025      0.975]\n",
       "------------------------------------------------------------------------------\n",
       "const         37.3335      3.197     11.677      0.000      30.794      43.873\n",
       "EFFPG          0.6154      0.045     13.769      0.000       0.524       0.707\n",
       "APG           -0.5517      0.239     -2.308      0.028      -1.041      -0.063\n",
       "==============================================================================\n",
       "Omnibus:                        0.192   Durbin-Watson:                   2.410\n",
       "Prob(Omnibus):                  0.909   Jarque-Bera (JB):                0.333\n",
       "Skew:                           0.157   Prob(JB):                        0.847\n",
       "Kurtosis:                       2.611   Cond. No.                         718.\n",
       "==============================================================================\n",
       "\n",
       "Notes:\n",
       "[1] Standard Errors assume that the covariance matrix of the errors is correctly specified.\n",
       "\"\"\""
      ]
     },
     "execution_count": 138,
     "metadata": {},
     "output_type": "execute_result"
    }
   ],
   "source": [
    "mco1.summary()"
   ]
  },
  {
   "cell_type": "code",
   "execution_count": null,
   "metadata": {},
   "outputs": [],
   "source": []
  }
 ],
 "metadata": {
  "kernelspec": {
   "display_name": "Python 3 (ipykernel)",
   "language": "python",
   "name": "python3"
  },
  "language_info": {
   "codemirror_mode": {
    "name": "ipython",
    "version": 3
   },
   "file_extension": ".py",
   "mimetype": "text/x-python",
   "name": "python",
   "nbconvert_exporter": "python",
   "pygments_lexer": "ipython3",
   "version": "3.11.4"
  }
 },
 "nbformat": 4,
 "nbformat_minor": 2
}
